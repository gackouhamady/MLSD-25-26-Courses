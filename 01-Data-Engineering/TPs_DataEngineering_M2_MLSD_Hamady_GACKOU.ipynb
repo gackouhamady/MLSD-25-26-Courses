
<p align="center">
  <img alt="University Paris Cité" src="https://img.shields.io/badge/University-Paris%20Cité-6f42c1?style=for-the-badge&logo=academia&logoColor=white">
  <img alt="Module Data Engineering" src="https://img.shields.io/badge/Course-Data%20Engineering-1976D2?style=for-the-badge&logo=databricks&logoColor=white">
  <img alt="Practical Lab" src="https://img.shields.io/badge/Type-Practical%20Lab-FF9800?style=for-the-badge&logo=jupyter&logoColor=white">
  <img alt="Day 1" src="https://img.shields.io/badge/Session-Day%201%20of%20Course-009688?style=for-the-badge&logo=googlecalendar&logoColor=white">
</p>

---

<p align="center">
  <strong>🎓 Master 2 Machine Learning for Data Science</strong>

</p>

---

<p align="center">

### 📊 Course Information  

| **Category**      | **Details**                          |
|-------------------|--------------------------------------|
| **University**    | University Paris Cité                |
| **Teaching Unit** | Data Engineering (Practical Labs)    |
| **Session**       | Day 1 of the course                  |
| **Instructor**    | Amine Ferddjaoui                     |
| **Student**       | Hamady GACKOU                        |

</p>



