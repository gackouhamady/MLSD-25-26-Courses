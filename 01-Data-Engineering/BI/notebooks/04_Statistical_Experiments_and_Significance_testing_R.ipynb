{
  "nbformat": 4,
  "nbformat_minor": 0,
  "metadata": {
    "colab": {
      "provenance": [],
      "include_colab_link": true
    },
    "kernelspec": {
      "name": "ir",
      "display_name": "R"
    },
    "language_info": {
      "name": "R"
    }
  },
  "cells": [
    {
      "cell_type": "markdown",
      "metadata": {
        "id": "view-in-github",
        "colab_type": "text"
      },
      "source": [
        "<a href=\"https://colab.research.google.com/github/gackouhamady/MLSD-25-26-Courses/blob/main/01-Data-Engineering/BI/notebooks/04_Statistical_Experiments_and_Significance_testing_R.ipynb\" target=\"_parent\"><img src=\"https://colab.research.google.com/assets/colab-badge.svg\" alt=\"Open In Colab\"/></a>"
      ]
    },
    {
      "cell_type": "markdown",
      "source": [
        "# **Statistical Experiments and Significance Testing**\n",
        "\n"
      ],
      "metadata": {
        "id": "sWZrNRknsc9V"
      }
    },
    {
      "cell_type": "code",
      "source": [
        "if (!require(dplyr)) install.packages('dplyr')\n",
        "if (!require(ggplot2)) install.packages('ggplot2')\n",
        "if (!require(lmPerm)) install.packages('lmPerm')\n",
        "if (!require(pwr)) install.packages('pwr')"
      ],
      "metadata": {
        "id": "FAPP-d7eqwHN",
        "colab": {
          "base_uri": "https://localhost:8080/"
        },
        "outputId": "88be23ae-e370-4dea-9341-6cc18da21e2c"
      },
      "execution_count": null,
      "outputs": [
        {
          "output_type": "stream",
          "name": "stderr",
          "text": [
            "Loading required package: dplyr\n",
            "\n",
            "\n",
            "Attaching package: ‘dplyr’\n",
            "\n",
            "\n",
            "The following objects are masked from ‘package:stats’:\n",
            "\n",
            "    filter, lag\n",
            "\n",
            "\n",
            "The following objects are masked from ‘package:base’:\n",
            "\n",
            "    intersect, setdiff, setequal, union\n",
            "\n",
            "\n",
            "Loading required package: ggplot2\n",
            "\n",
            "Loading required package: lmPerm\n",
            "\n",
            "Warning message in library(package, lib.loc = lib.loc, character.only = TRUE, logical.return = TRUE, :\n",
            "“there is no package called ‘lmPerm’”\n",
            "Installing package into ‘/usr/local/lib/R/site-library’\n",
            "(as ‘lib’ is unspecified)\n",
            "\n",
            "Loading required package: pwr\n",
            "\n",
            "Warning message in library(package, lib.loc = lib.loc, character.only = TRUE, logical.return = TRUE, :\n",
            "“there is no package called ‘pwr’”\n",
            "Installing package into ‘/usr/local/lib/R/site-library’\n",
            "(as ‘lib’ is unspecified)\n",
            "\n"
          ]
        }
      ]
    },
    {
      "cell_type": "code",
      "execution_count": null,
      "metadata": {
        "id": "i4_w135wqXWp"
      },
      "outputs": [],
      "source": [
        "library(ggplot2)\n",
        "library(dplyr)\n",
        "library(lmPerm)\n",
        "library(pwr)"
      ]
    },
    {
      "cell_type": "markdown",
      "source": [
        "# Resampling\n",
        "\n",
        "$\\underline{Two~~main~~types}$ :\n",
        "- the bootstrap test (to assess the reliability of an estimate)\n",
        "- the permutation test (to test hypothesis involving two or more groups)\n",
        "\n",
        "$\\underline{Permutation~test}$:\n",
        "- Combining two or more samples together and randomly reallocating the observations to resamples.\n",
        "- The null hypothesis is that the treatments to which the groups were exposed do not differ.\n",
        "\n",
        "$\\underline{Permutation~~procedure}$\n",
        "- **Combine** the results from the different groups into a single data set.\n",
        "- **Shuffle** the combined data and then randomly draw (without replacement) a resample of the same size as group A.\n",
        "- From the remaining data, **randomly draw** (without replacement) a resample of the same size as group B.\n",
        "- Do the same for groups C, D and so on. You have now collected one set of resamples that **mirror the sizes** of the original samples.\n",
        "- Whatever statistic or estimate was calculated for the original samples (e.g. difference in group proportions), calculate it now for the resamples, and record; this constitutes **one permutation iteration**.\n",
        "- Repeat the previous step ***R* times** to yield a permutation **distribution of the test statistic** (i.e. th metric used to measure the effect of a treatment)\n",
        "- **If the observed difference lies outside most of the permutation distribution, then we conclude that chance is not responsible.**\n"
      ],
      "metadata": {
        "id": "zcTHskYIU-Jb"
      }
    },
    {
      "cell_type": "markdown",
      "source": [
        "## Example: Web stickiness\n",
        "\n",
        "A company wants to test which of two web presentations does a better selling job. The company decides to measure the results with a proxy variable, which is the average session time. It is reasonnable to think that a web page that holds people's attentionlonger will lead to more sales. <br>\n",
        "\n",
        "Data are as follows: 36 average session times for the two different presentations; 21 for page A and 15 for page B."
      ],
      "metadata": {
        "id": "_jJoneu9BhgE"
      }
    },
    {
      "cell_type": "code",
      "source": [
        "# Load the data\n",
        "session_times <- read.csv(file.path('sample_data', 'web_page_data.csv'))\n",
        "session_times[,2] <- session_times[,2] * 100"
      ],
      "metadata": {
        "id": "-zZdza4fDTSU"
      },
      "execution_count": null,
      "outputs": []
    },
    {
      "cell_type": "code",
      "source": [
        "# Plot the data distribution for the two groups\n",
        "graph <- ggplot(session_times, aes(x=Page, y=Time)) +\n",
        "  geom_boxplot() +\n",
        "  labs(y='Time (in seconds)') +\n",
        "  theme_bw()\n",
        "graph\n",
        "\n",
        "# Page B leads to longer sessions than page A."
      ],
      "metadata": {
        "colab": {
          "base_uri": "https://localhost:8080/",
          "height": 437
        },
        "id": "Lk1_4GnFEBaX",
        "outputId": "dc298e6e-d89e-4dfc-8bf4-71d45a09335c"
      },
      "execution_count": null,
      "outputs": [
        {
          "output_type": "display_data",
          "data": {
            "text/plain": [
              "plot without title"
            ],
            "image/png": "[encoded data removed]"
          },
          "metadata": {
            "image/png": {
              "width": 420,
              "height": 420
            }
          }
        }
      ]
    },
    {
      "cell_type": "code",
      "source": [
        "mean_a <- mean(session_times[session_times['Page'] == 'Page A', 'Time'])\n",
        "mean_b <- mean(session_times[session_times['Page'] == 'Page B', 'Time'])\n",
        "mean_b - mean_a\n",
        "\n",
        "# Page B has session time that are greater than those of page A by 35,67\n",
        "# seconds on average. Is it statistically significant?"
      ],
      "metadata": {
        "colab": {
          "base_uri": "https://localhost:8080/",
          "height": 34
        },
        "id": "cdvDMyQvEb-G",
        "outputId": "5c4915b3-5378-4edf-ecb6-d6699f09e337"
      },
      "execution_count": null,
      "outputs": [
        {
          "output_type": "display_data",
          "data": {
            "text/html": [
              "35.6666666666667"
            ],
            "text/markdown": "35.6666666666667",
            "text/latex": "35.6666666666667",
            "text/plain": [
              "[1] 35.66667"
            ]
          },
          "metadata": {}
        }
      ]
    },
    {
      "cell_type": "code",
      "source": [
        "# Apply a permutation test to found out\n",
        "perm_fun <- function(x, nA, nB)\n",
        "{\n",
        "  n <- nA + nB\n",
        "  idx_b <- sample(1:n, nB)  # sampling without replacement\n",
        "  idx_a <- setdiff(1:n, idx_b)\n",
        "  mean_diff <- mean(x[idx_b]) - mean(x[idx_a])\n",
        "  return(mean_diff)\n",
        "}"
      ],
      "metadata": {
        "id": "6ZVAdfJxE2ND"
      },
      "execution_count": null,
      "outputs": []
    },
    {
      "cell_type": "code",
      "source": [
        "# We permute 1000 and observe the distribution of the mean difference between A and B\n",
        "set.seed(1)\n",
        "perm_diffs <- rep(0, 1000)\n",
        "for (i in 1:1000) {\n",
        "  perm_diffs[i] = perm_fun(session_times[, 'Time'], 21, 15)\n",
        "}\n",
        "par(mar=c(4,4,1,0)+.1)\n",
        "hist(perm_diffs, xlab='Session time differences (in seconds)', main='')\n",
        "abline(v=mean_b - mean_a, lty=2, lwd=1.5)\n",
        "text('  Observed\\n  difference', x=mean_b - mean_a,  y=par()$usr[4]-20, adj=0)\n",
        "\n",
        "# NB:\n",
        "# The mean difference of random permutations often exceeds the observed difference\n",
        "# in session times.\n",
        "\n",
        "# Percentage of cases where this happens (right part of the vertical dashed line)\n",
        "mean(perm_diffs > (mean_b - mean_a))\n",
        "\n",
        "# NB:\n",
        "# This suggest that the observed difference in session between page 1 and page B\n",
        "# is well within the range of chance variation and thus is not statistically\n",
        "# significant."
      ],
      "metadata": {
        "colab": {
          "base_uri": "https://localhost:8080/",
          "height": 454
        },
        "id": "-_l0RTw1FJq5",
        "outputId": "99746a74-7d24-459f-b77b-696f8762cb9f"
      },
      "execution_count": null,
      "outputs": [
        {
          "output_type": "display_data",
          "data": {
            "text/html": [
              "0.141"
            ],
            "text/markdown": "0.141",
            "text/latex": "0.141",
            "text/plain": [
              "[1] 0.141"
            ]
          },
          "metadata": {}
        },
        {
          "output_type": "display_data",
          "data": {
            "text/plain": [
              "Plot with title “”"
            ],
            "image/png": "[encoded data removed]"
          },
          "metadata": {
            "image/png": {
              "width": 420,
              "height": 420
            }
          }
        }
      ]
    },
    {
      "cell_type": "markdown",
      "source": [
        "# Statistical Significance and P-Values\n",
        "\n",
        "We want to measure if a result is more extreme than what chance might produce.\n",
        "If yes, it is said to be **satistically significant**.\n",
        "\n",
        "$\\underline{p-value}$ : Given a chance model that embodies the null hypothesis, the p-value is the probability of obtaining results as unusual or extreme as the observed results.\n",
        "\n",
        "$\\underline{\\alpha}$ : The probability threshold of 'unusualness' that chance results must surpass for actual outcomes to be deemed statistically significant.\n",
        "\n",
        "$\\underline{Type~~1~~error}$ : Mistakenly concluding an effect is real when it is due to chance (False Positive)\n",
        "\n",
        "$\\underline{Type~~2~~error}$ : Mistakenly concluding an effect is due to chance when it is real (False Negative)\n"
      ],
      "metadata": {
        "id": "HgjnSQ0SHOjp"
      }
    },
    {
      "cell_type": "markdown",
      "source": [
        "**Example: eCommerce**\n",
        "\n",
        "Let us suppose that we have two article, A & B. The company selling these articles has cumulated the following data:\n",
        "- out of $23,739$ purchases, the article A was returned $200$ times\n",
        "- out of $22,588$ purchases, the article B was returned $182$ times\n",
        "\n",
        "We can test whether the difference in the returns frequency between article A and article B is within the range of chance variation using a resampling procedure.\n",
        "\n",
        "$\\underline{Question}$ : *If the two articles share the same return rate, could chance variation produce a difference as big as $5\\%$?*\n",
        "\n",
        "$\\underline{Procedure}$<br>\n",
        "1. Consider a samples set with $(200+182)=382$ returns (class $1$) and $(23,539+22,406)=45,945$ non returns (class $0$). The rate is $\\frac{382}{45,945})$.<br>\n",
        "2. We shuffle and draw out a resample of size $23,739$ (same $n$ as article A), and record how many $1s$.<br>\n",
        "3. Record the number of $1s$ in the remaining $22,588$ (same $n$ as article B).<br>\n",
        "4. Record the difference in proportion of $1s$.<br>\n",
        "5. Repeat steps 2--4.<br>\n",
        "6. How often was the difference $\\geq 100 \\times (\\frac{200}{23,739} - \\frac{182}{22,588})=0,0368$?"
      ],
      "metadata": {
        "id": "j1eFX3yMTeP-"
      }
    },
    {
      "cell_type": "code",
      "source": [
        "obs_pct_diff <- 100 * (200 / 23739 - 182 / 22588)\n",
        "conversion <- c(rep(0, 45945), rep(1, 382))\n",
        "perm_diffs <- rep(0, 1000)\n",
        "for (i in 1:1000) {\n",
        "  perm_diffs[i] = 100 * perm_fun(conversion, 23739, 22588)\n",
        "}\n",
        "\n",
        "hist(perm_diffs, xlab='Conversion rate (percent)', main='')\n",
        "abline(v=obs_pct_diff, lty=2, lwd=1.5)\n",
        "text('   Observed\\n   difference', x=obs_pct_diff,  y=par()$usr[4]-20, adj=0)\n",
        "\n",
        "# NB:\n",
        "# The observed difference of $0,0368\\%$ is well within the range of chance variation."
      ],
      "metadata": {
        "colab": {
          "base_uri": "https://localhost:8080/",
          "height": 437
        },
        "id": "uCxiN5qcLEkR",
        "outputId": "d8320b69-01e0-4606-abab-faaada2cfabd"
      },
      "execution_count": null,
      "outputs": [
        {
          "output_type": "display_data",
          "data": {
            "text/plain": [
              "Plot with title “”"
            ],
            "image/png": "[encoded data removed]"
          },
          "metadata": {
            "image/png": {
              "width": 420,
              "height": 420
            }
          }
        }
      ]
    },
    {
      "cell_type": "code",
      "source": [
        "# p-value:\n",
        "# The frequency with which the chance model produces a results more\n",
        "# extreme than the observed result.\n",
        "#\n",
        "# p-value from permutation test:\n",
        "# Take the proportion of times that the permutation test produces a difference\n",
        "# equal to or greater than the observed difference.\n",
        "#\n",
        "# \"Given a chance model, what is the probability that this happened by chance?\""
      ],
      "metadata": {
        "id": "N3sWk_QuSBC9"
      },
      "execution_count": null,
      "outputs": []
    },
    {
      "cell_type": "code",
      "source": [
        "mean(perm_diffs > obs_pct_diff)\n",
        "\n",
        "# Meaning: We would expect to achieve a result as extreme as this obs_pct_diff,\n",
        "# or more extreme than this, by random chance $34\\%$ of time."
      ],
      "metadata": {
        "colab": {
          "base_uri": "https://localhost:8080/",
          "height": 34
        },
        "id": "DkzqPEbMcvf_",
        "outputId": "c5366489-95ea-499d-a004-f266e48b811f"
      },
      "execution_count": null,
      "outputs": [
        {
          "output_type": "display_data",
          "data": {
            "text/html": [
              "0.34"
            ],
            "text/markdown": "0.34",
            "text/latex": "0.34",
            "text/plain": [
              "[1] 0.34"
            ]
          },
          "metadata": {}
        }
      ]
    },
    {
      "cell_type": "markdown",
      "source": [
        "For this eCommerce example, we don't need to use a permutation test to get a p-value. With a binomial distribution, we can approximate the p-value."
      ],
      "metadata": {
        "id": "ekDDrkUTdhfY"
      }
    },
    {
      "cell_type": "code",
      "source": [
        "prop.test(x=c(200,182), n=c(23739,22588), alternative='greater')\n",
        "\n",
        "# x = number of successes for each group\n",
        "# n = number of trials\n",
        "#\n",
        "# The normal approximation yields a p-value of $0.3498$, which is close to\n",
        "# the p-value obtained from the permutation test."
      ],
      "metadata": {
        "colab": {
          "base_uri": "https://localhost:8080/",
          "height": 204
        },
        "id": "gM-vqTnGdxdP",
        "outputId": "3c6340c0-eb61-4543-a294-958ff0018032"
      },
      "execution_count": null,
      "outputs": [
        {
          "output_type": "display_data",
          "data": {
            "text/plain": [
              "\n",
              "\t2-sample test for equality of proportions with continuity correction\n",
              "\n",
              "data:  c(200, 182) out of c(23739, 22588)\n",
              "X-squared = 0.14893, df = 1, p-value = 0.3498\n",
              "alternative hypothesis: greater\n",
              "95 percent confidence interval:\n",
              " -0.001057439  1.000000000\n",
              "sample estimates:\n",
              "     prop 1      prop 2 \n",
              "0.008424955 0.008057376 \n"
            ]
          },
          "metadata": {}
        }
      ]
    },
    {
      "cell_type": "markdown",
      "source": [
        "# t-Tests\n",
        "\n",
        "This significance test is named after Student's t-distribution, originally developed by W.S. Gosset to approximate the distribution of a sample mean.<br>\n",
        "\n",
        "The t-test is a good approximation to the permutation (shuffled) distribution. Ii is used for the very common A/B test (two-sample comparison) in which the data is numeric. A standardized form of the statistic test must be used."
      ],
      "metadata": {
        "id": "WTR9RhVngSsp"
      }
    },
    {
      "cell_type": "code",
      "source": [
        "t.test(Time ~ Page, data=session_times, alternative='less')\n",
        "\n",
        "# NB:\n",
        "# Alternative hypothesis = the session time mean for page A is less than that\n",
        "# for page B. The p-value of 0.1408 is very similar to the permutation test p-value."
      ],
      "metadata": {
        "colab": {
          "base_uri": "https://localhost:8080/",
          "height": 204
        },
        "id": "eSU2HKRxorLu",
        "outputId": "7de542ea-a8fe-49fe-db83-593142a154d5"
      },
      "execution_count": null,
      "outputs": [
        {
          "output_type": "display_data",
          "data": {
            "text/plain": [
              "\n",
              "\tWelch Two Sample t-test\n",
              "\n",
              "data:  Time by Page\n",
              "t = -1.0983, df = 27.693, p-value = 0.1408\n",
              "alternative hypothesis: true difference in means between group Page A and group Page B is less than 0\n",
              "95 percent confidence interval:\n",
              "     -Inf 19.59674\n",
              "sample estimates:\n",
              "mean in group Page A mean in group Page B \n",
              "            126.3333             162.0000 \n"
            ]
          },
          "metadata": {}
        }
      ]
    },
    {
      "cell_type": "markdown",
      "source": [
        "# Multiple Testing: ANOVA\n",
        "\n",
        "Suppose that we have a comparison of multiple groups A/B/C/D, each with numeric data. The statistical procedure that tests for a statistically significant difference among the groups is called *analysis of variance*, or *ANOVA*."
      ],
      "metadata": {
        "id": "9ktMhsz1pyfQ"
      }
    },
    {
      "cell_type": "markdown",
      "source": [
        "### Example: Stickiness of four web pages\n",
        "\n",
        "The *stickiness* is the number of seconds a visitor spent on the page. There are 5 visitors for each page. There are 6 possible comparisons between groups:\n",
        "- Page 1 compared to page 2\n",
        "- Page 1 compared to page 3\n",
        "- Page 1 compared to page 4\n",
        "- Page 2 compared to page 3\n",
        "- Page 2 compared to page 4\n",
        "- Page 3 compared to page 4\n",
        "\n",
        "The more tests you do, the greater the potential for being fooled by random chance... Can we do an overall test that addresses the following question:<br>\n",
        "\n",
        "*'Could all pages have the same underlying stickiness, and the differences among them be due to the random way in which a common set of session times got allocated among the four pages?'*"
      ],
      "metadata": {
        "id": "7kAy7_oauJYD"
      }
    },
    {
      "cell_type": "markdown",
      "source": [
        "**The ANOVA permutation procedure for the stickiness example**\n",
        "\n",
        "1. Combine all the data together in a single box.<br>\n",
        "2. Shuffle and draw out four resamples of five values each.<br>\n",
        "3. Record the mean of each of the four groups.<br>\n",
        "4. Record the variance among the four group means.<br>\n",
        "5. Repeat steps 2-4 many times (say, $1,000$).\n",
        "\n",
        "$\\underline{p-value}$ : the proportion of the time the resampled variance exceed the observed variance.<br>\n",
        "\n",
        "You can use the ${\\tt aovp}$ function in the R package ${\\tt lmPerm}$."
      ],
      "metadata": {
        "id": "64jWzh7ZwApL"
      }
    },
    {
      "cell_type": "code",
      "source": [
        "# Load the new data set\n",
        "four_sessions  <- read.csv(file.path('sample_data', 'four_sessions.csv'))\n",
        "head(four_sessions)"
      ],
      "metadata": {
        "colab": {
          "base_uri": "https://localhost:8080/",
          "height": 283
        },
        "id": "utPLafi-xbGK",
        "outputId": "4cba489a-02e4-4ba4-a17c-ff42392a2457"
      },
      "execution_count": null,
      "outputs": [
        {
          "output_type": "display_data",
          "data": {
            "text/html": [
              "<table class=\"dataframe\">\n",
              "<caption>A data.frame: 6 × 2</caption>\n",
              "<thead>\n",
              "\t<tr><th></th><th scope=col>Page</th><th scope=col>Time</th></tr>\n",
              "\t<tr><th></th><th scope=col>&lt;chr&gt;</th><th scope=col>&lt;int&gt;</th></tr>\n",
              "</thead>\n",
              "<tbody>\n",
              "\t<tr><th scope=row>1</th><td>Page 1</td><td>164</td></tr>\n",
              "\t<tr><th scope=row>2</th><td>Page 2</td><td>178</td></tr>\n",
              "\t<tr><th scope=row>3</th><td>Page 3</td><td>175</td></tr>\n",
              "\t<tr><th scope=row>4</th><td>Page 4</td><td>155</td></tr>\n",
              "\t<tr><th scope=row>5</th><td>Page 1</td><td>172</td></tr>\n",
              "\t<tr><th scope=row>6</th><td>Page 2</td><td>191</td></tr>\n",
              "</tbody>\n",
              "</table>\n"
            ],
            "text/markdown": "\nA data.frame: 6 × 2\n\n| <!--/--> | Page &lt;chr&gt; | Time &lt;int&gt; |\n|---|---|---|\n| 1 | Page 1 | 164 |\n| 2 | Page 2 | 178 |\n| 3 | Page 3 | 175 |\n| 4 | Page 4 | 155 |\n| 5 | Page 1 | 172 |\n| 6 | Page 2 | 191 |\n\n",
            "text/latex": "A data.frame: 6 × 2\n\\begin{tabular}{r|ll}\n  & Page & Time\\\\\n  & <chr> & <int>\\\\\n\\hline\n\t1 & Page 1 & 164\\\\\n\t2 & Page 2 & 178\\\\\n\t3 & Page 3 & 175\\\\\n\t4 & Page 4 & 155\\\\\n\t5 & Page 1 & 172\\\\\n\t6 & Page 2 & 191\\\\\n\\end{tabular}\n",
            "text/plain": [
              "  Page   Time\n",
              "1 Page 1 164 \n",
              "2 Page 2 178 \n",
              "3 Page 3 175 \n",
              "4 Page 4 155 \n",
              "5 Page 1 172 \n",
              "6 Page 2 191 "
            ]
          },
          "metadata": {}
        }
      ]
    },
    {
      "cell_type": "code",
      "source": [
        "# Plot the data\n",
        "graph <- ggplot(four_sessions, aes(x=Page, y=Time)) +\n",
        "  geom_boxplot() +\n",
        "  labs(y='Time (in seconds)') +\n",
        "  theme_bw()\n",
        "graph"
      ],
      "metadata": {
        "colab": {
          "base_uri": "https://localhost:8080/",
          "height": 437
        },
        "id": "9z56YO50zCx0",
        "outputId": "9cffe6d0-32f0-4649-9842-4e63e5f6e542"
      },
      "execution_count": null,
      "outputs": [
        {
          "output_type": "display_data",
          "data": {
            "text/plain": [
              "plot without title"
            ],
            "image/png": "[encoded data removed]"
          },
          "metadata": {
            "image/png": {
              "width": 420,
              "height": 420
            }
          }
        }
      ]
    },
    {
      "cell_type": "code",
      "source": [
        "summary(aovp(Time ~ Page, data = four_sessions))\n",
        "\n",
        "# NB:\n",
        "# The p-value is given by Pr(Prob) (for me: 0.07947): given the underlying stickiness,\n",
        "# 7.9% of the time the response rate among four pages might differ as much as was\n",
        "# actually observed, just by chance.\n",
        "#\n",
        "# Pr(Prob) > 0.05 ==> the difference among the four pages could have arisen by chance"
      ],
      "metadata": {
        "colab": {
          "base_uri": "https://localhost:8080/",
          "height": 136
        },
        "id": "btiptNKUxyXg",
        "outputId": "76362d9d-fac9-4d0c-9509-df4fd54d713f"
      },
      "execution_count": null,
      "outputs": [
        {
          "output_type": "stream",
          "name": "stdout",
          "text": [
            "[1] \"Settings:  unique SS \"\n"
          ]
        },
        {
          "output_type": "display_data",
          "data": {
            "text/plain": [
              "Component 1 :\n",
              "            Df R Sum Sq R Mean Sq Iter Pr(Prob)  \n",
              "Page1        3    831.4    277.13 5000   0.0772 .\n",
              "Residuals   16   1618.4    101.15                \n",
              "---\n",
              "Signif. codes:  0 ‘***’ 0.001 ‘**’ 0.01 ‘*’ 0.05 ‘.’ 0.1 ‘ ’ 1\n"
            ]
          },
          "metadata": {}
        }
      ]
    },
    {
      "cell_type": "markdown",
      "source": [
        "**The ANOVA statistical test for the stickiness example**\n",
        "\n",
        "Just like t-test can be used instead of a permutation test for comparing the mean of the two groups, there is a statistical test for ANOVA based on the *F-statistic*.\n",
        "\n",
        "The *F-statistic* is based on the ratio of the variance across group means (e.g.treatment effect) to the variance due to residual error. The higher this ratio, the more statistically significant the result.\n",
        "\n",
        "You can use the ${\\tt aov}$ function in the R package ${\\tt lmPerm}$."
      ],
      "metadata": {
        "id": "fD4gNvqHz63q"
      }
    },
    {
      "cell_type": "code",
      "source": [
        "summary(aov(Time ~ Page, data=four_sessions))\n",
        "\n",
        "# NB:\n",
        "# The F-statistic is MS(treatment)/MS(error). The F value can be compare to a\n",
        "# F-distribution to determine whether the differences among treatment means are\n",
        "# greater than would be expected in random chance variation.\n",
        "#\n",
        "# Here, Pr(>F) > 0.05 ==> the difference among the four pages could have arisen by chance"
      ],
      "metadata": {
        "colab": {
          "base_uri": "https://localhost:8080/",
          "height": 102
        },
        "id": "1LK5Kp6V03LV",
        "outputId": "21f8a8e7-4968-45e3-e6bd-d471863c6efc"
      },
      "execution_count": null,
      "outputs": [
        {
          "output_type": "display_data",
          "data": {
            "text/plain": [
              "            Df Sum Sq Mean Sq F value Pr(>F)  \n",
              "Page         3  831.4   277.1    2.74 0.0776 .\n",
              "Residuals   16 1618.4   101.2                 \n",
              "---\n",
              "Signif. codes:  0 ‘***’ 0.001 ‘**’ 0.01 ‘*’ 0.05 ‘.’ 0.1 ‘ ’ 1"
            ]
          },
          "metadata": {}
        }
      ]
    },
    {
      "cell_type": "markdown",
      "source": [
        "# Chi-square test\n",
        "\n",
        "The chi-square test is used with count data to test how well it fits some expected distribution. It assesses whether the null hypothesis of independence among variables is reasonnable.\n",
        "\n",
        "$\\underline{Chi-square~statistic}$ A measure of the extent to which some observed data departs from expectation."
      ],
      "metadata": {
        "id": "PD3tm-CWoj-2"
      }
    },
    {
      "cell_type": "markdown",
      "source": [
        "**Chi-square test: a resampling approach**\n",
        "\n",
        "We want to test three headlines -- A, B and C -- that were run each on $1,000$ visitors. The counts are given in the table below. It appears that Headline A returns nearly twice that click rate of B. The number are small. A resampling approach can test whether the click rates differ to an extent greater than chance might cause.\n",
        "<br><br>\n",
        "\n",
        "<table>\n",
        "    <tr>\n",
        "        <td>\n",
        "...\n",
        "        </td>\n",
        "        <td>\n",
        "$\\mathbf{Headline A}$\n",
        "        </td>\n",
        "        <td>\n",
        "$\\mathbf{Headline B}$\n",
        "        </td>\n",
        "        <td>\n",
        "$\\mathbf{Headline C}$\n",
        "        </td>\n",
        "    </tr>\n",
        "    <tr>\n",
        "        <td>\n",
        "$\\mathbf{Click}$\n",
        "        </td>\n",
        "        <td>\n",
        "14\n",
        "        </td>\n",
        "        <td>\n",
        "8\n",
        "        </td>\n",
        "        <td>\n",
        "12\n",
        "        </td>\n",
        "    </tr>\n",
        "    <tr>\n",
        "        <td>\n",
        "$\\mathbf{No-Click}$\n",
        "        </td>\n",
        "        <td>\n",
        "986\n",
        "        </td>\n",
        "        <td>\n",
        "992\n",
        "        </td>\n",
        "        <td>\n",
        "988\n",
        "        </td>\n",
        "    </tr>\n",
        "</table>\n",
        "<br><br>\n",
        "\n",
        "The next table present the 'expected' distribution of clicks which embed the null hypothesis assumption that all three headlines share the same click rate, for an overall click rate of $\\frac{34}{3,000}$.\n",
        "<br><br>\n",
        "\n",
        "<table>\n",
        "    <tr>\n",
        "        <td>\n",
        "...\n",
        "        </td>\n",
        "        <td>\n",
        "$\\mathbf{Headline A}$\n",
        "        </td>\n",
        "        <td>\n",
        "$\\mathbf{Headline B}$\n",
        "        </td>\n",
        "        <td>\n",
        "$\\mathbf{Headline C}$\n",
        "        </td>\n",
        "    </tr>\n",
        "    <tr>\n",
        "        <td>\n",
        "$\\mathbf{Click}$\n",
        "        </td>\n",
        "        <td>\n",
        "11.33\n",
        "        </td>\n",
        "        <td>\n",
        "11.33\n",
        "        </td>\n",
        "        <td>\n",
        "11.33\n",
        "        </td>\n",
        "    </tr>\n",
        "    <tr>\n",
        "        <td>\n",
        "$\\mathbf{No-Click}$\n",
        "        </td>\n",
        "        <td>\n",
        "988.67\n",
        "        </td>\n",
        "        <td>\n",
        "988.67\n",
        "        </td>\n",
        "        <td>\n",
        "988.67\n",
        "        </td>\n",
        "    </tr>\n",
        "</table>\n",
        "<br><br>\n",
        "\n",
        "The *Pearson residual*, $R$, measures the extent to which the actual counts differ from these expected counts (see table below). $R$ is defined as:\n",
        "$R = \\frac{Observed-Expected}{\\sqrt{Expected}}$\n",
        "<br><br>\n",
        "\n",
        "<table>\n",
        "    <tr>\n",
        "        <td>\n",
        "...\n",
        "        </td>\n",
        "        <td>\n",
        "$\\mathbf{Headline A}$\n",
        "        </td>\n",
        "        <td>\n",
        "$\\mathbf{Headline B}$\n",
        "        </td>\n",
        "        <td>\n",
        "$\\mathbf{Headline C}$\n",
        "        </td>\n",
        "    </tr>\n",
        "    <tr>\n",
        "        <td>\n",
        "$\\mathbf{Click}$\n",
        "        </td>\n",
        "        <td>\n",
        "0.792\n",
        "        </td>\n",
        "        <td>\n",
        "-0.990\n",
        "        </td>\n",
        "        <td>\n",
        "0.198\n",
        "        </td>\n",
        "    </tr>\n",
        "    <tr>\n",
        "        <td>\n",
        "$\\mathbf{No-Click}$\n",
        "        </td>\n",
        "        <td>\n",
        "-0.085\n",
        "        </td>\n",
        "        <td>\n",
        "0.106\n",
        "        </td>\n",
        "        <td>\n",
        "-0.021\n",
        "        </td>\n",
        "    </tr>\n",
        "</table>\n",
        "<br><br>\n",
        "\n",
        "The **chi-square statistic** is defined as the sum of the squared Pearson residuals:\n",
        "$X = \\sum\\limits_i^r\\sum\\limits_j^c R^2$\n",
        "with $r$ and $c$ the number of rows and columns. In our example, $X=1.666$. Is that more than could reasonably occur in a chance model?"
      ],
      "metadata": {
        "id": "mil7EnCephFT"
      }
    },
    {
      "cell_type": "markdown",
      "source": [
        "**$\\underline{Chi-square~resampling~procedure}$**\n",
        "\n",
        "We can test with this resampling algorithm:\n",
        "1. Constitute a box with 34 ones and 2,966 zeros.<br>\n",
        "2. Shuffle, take three separate samples of $1,000$ and count the clicks in each.<br>\n",
        "3. Find the squared differences between the shuffled counts and the expected counts and sum them.<br>\n",
        "4. Repeat steps 2 and 3, $1,000$ times.<br>\n",
        "5. How often does the resampled sum of squared deviations exceed the observed? **That's the p-value.**"
      ],
      "metadata": {
        "id": "tYzLfXNwyZeL"
      }
    },
    {
      "cell_type": "code",
      "source": [
        "# The function chisq.test can be used to compute a resample chi-square statistic\n",
        "click_rate <-  read.csv(file.path('sample_data', 'click_rates.csv'))\n",
        "clicks <- matrix(click_rate$Rate, nrow=3, ncol=2, byrow=TRUE)\n",
        "dimnames(clicks) <- list(unique(click_rate$Headline), unique(click_rate$Click))\n",
        "print(clicks)\n",
        "\n",
        "chisq.test(clicks, simulate.p.value=TRUE)\n",
        "\n",
        "# NB:\n",
        "# The obtained p-value shows that this result could easily have been obtained\n",
        "# by randomness."
      ],
      "metadata": {
        "colab": {
          "base_uri": "https://localhost:8080/",
          "height": 187
        },
        "id": "1thVy4P4zuiX",
        "outputId": "a2cfc29b-5d60-4103-a21a-1a75cd03d38a"
      },
      "execution_count": null,
      "outputs": [
        {
          "output_type": "stream",
          "name": "stdout",
          "text": [
            "           Click No-click\n",
            "Headline A    14      986\n",
            "Headline B     8      992\n",
            "Headline C    12      988\n"
          ]
        },
        {
          "output_type": "display_data",
          "data": {
            "text/plain": [
              "\n",
              "\tPearson's Chi-squared test with simulated p-value (based on 2000\n",
              "\treplicates)\n",
              "\n",
              "data:  clicks\n",
              "X-squared = 1.6659, df = NA, p-value = 0.4793\n"
            ]
          },
          "metadata": {}
        }
      ]
    },
    {
      "cell_type": "markdown",
      "source": [
        "**$\\underline{Chi-square~statistical~theory}$**\n",
        "\n",
        "The distributionof the chi-square statistic can be approximated by a *chi-square distribution*. The appropriate standard chi-square distribution is determined by the *degree of freedom*. For a contingency table, it is given by $(r-1)(c-1)$."
      ],
      "metadata": {
        "id": "KF38zv2Y1tkX"
      }
    },
    {
      "cell_type": "code",
      "source": [
        "x <- seq(1, 30, length=100)\n",
        "chi <- data.frame(df = factor(rep(c(1, 2, 5, 20), rep(100, 4))),\n",
        "                  x = rep(x, 4),\n",
        "                  p = c(dchisq(x, 1), dchisq(x, 2), dchisq(x, 5), dchisq(x, 20)))\n",
        "\n",
        "graph <- ggplot(chi, aes(x=x, y=p)) +\n",
        "  geom_line(aes(linetype=df)) +\n",
        "  geom_text(aes(x=25, y=0.06, label='df=20'), size=2.5) +\n",
        "  geom_text(aes(x=8, y=0.1, label='df=5'), size=2.5) +\n",
        "  geom_text(aes(x=4, y=0.2, label='df=2'), size=2.5) +\n",
        "  geom_text(aes(x=1.5, y=0.05, label='df=1'), size=2.5) +\n",
        "  theme_bw() + theme(legend.position = \"none\") +\n",
        "  labs(x='Value of chi-square statistic', y='Probability')\n",
        "graph\n",
        "\n",
        "# NB:\n",
        "# The further out on the chi-square distribution the observed statistic is, the\n",
        "# lower the p-value."
      ],
      "metadata": {
        "colab": {
          "base_uri": "https://localhost:8080/",
          "height": 437
        },
        "id": "71BiSZwj21lZ",
        "outputId": "0dec4586-672e-41a0-ac2b-7b85b74d04fa"
      },
      "execution_count": null,
      "outputs": [
        {
          "output_type": "display_data",
          "data": {
            "text/plain": [
              "plot without title"
            ],
            "image/png": "[encoded data removed]"
          },
          "metadata": {
            "image/png": {
              "width": 420,
              "height": 420
            }
          }
        }
      ]
    },
    {
      "cell_type": "code",
      "source": [
        "# The function chisq.test can be used tom compute the p-value using the\n",
        "# chi-square distributionas a reference\n",
        "chisq.test(clicks, simulate.p.value = FALSE)"
      ],
      "metadata": {
        "colab": {
          "base_uri": "https://localhost:8080/",
          "height": 102
        },
        "id": "V8eOU8Yt3QEs",
        "outputId": "43c363c5-b7a6-4001-9328-456eacf92f22"
      },
      "execution_count": null,
      "outputs": [
        {
          "output_type": "display_data",
          "data": {
            "text/plain": [
              "\n",
              "\tPearson's Chi-squared test\n",
              "\n",
              "data:  clicks\n",
              "X-squared = 1.6659, df = 2, p-value = 0.4348\n"
            ]
          },
          "metadata": {}
        }
      ]
    },
    {
      "cell_type": "markdown",
      "source": [
        "# Fisher's exact test\n",
        "\n",
        "The chi-square distribution is a good approximation of the suffled resampling test, **expect when counts are extremely low**. Yet, most statistical software has a procedure to actually enumerate *all* the possible rearrangements (permutations) that can occur, tabulate their frequencies, and determine exactly how extreme the observed results is. This is called *Fisher's exact test*."
      ],
      "metadata": {
        "id": "rL3eCq8Y4gZb"
      }
    },
    {
      "cell_type": "code",
      "source": [
        "fisher.test(clicks)\n",
        "\n",
        "# NB:\n",
        "# The p-value is very close to the p-value of 0.4853 obtained using the resampling method."
      ],
      "metadata": {
        "id": "yxRDlYbD79XR",
        "colab": {
          "base_uri": "https://localhost:8080/",
          "height": 119
        },
        "outputId": "89166076-0a12-494b-de7f-92dc1fde465d"
      },
      "execution_count": null,
      "outputs": [
        {
          "output_type": "display_data",
          "data": {
            "text/plain": [
              "\n",
              "\tFisher's Exact Test for Count Data\n",
              "\n",
              "data:  clicks\n",
              "p-value = 0.4824\n",
              "alternative hypothesis: two.sided\n"
            ]
          },
          "metadata": {}
        }
      ]
    },
    {
      "cell_type": "markdown",
      "source": [
        "# Multi-Arm Bandit Algorithm\n",
        "\n",
        "This method offer an approach to testing, especially web testing, and allows you to testmultiple treatments at once. It reaches conclusions faster than traditional statistical designs.\n",
        "\n",
        "$\\underline{One-armed~bandit}$ : slot machines used in gambling that is configured in such a way that they extract money from the gambler in a steady flow.\n",
        "\n",
        "$\\underline{Multi-armed~bandit}$ : Imagine a slot machine with more than one arm, each arm paying out at a different rate...\n",
        "\n",
        "**Your goal**: to win as much money as possible and, more specifically, to identify and settle on the winning arm sooner rather than later. But, you don't know at what overall rate the arms pay out and you only have the results of individual pulls on the arms.\n",
        "\n",
        "**Intuitive approach**: Let's suppose you have three arms, A/B/C and that A *looks like* it is the winner. We start pulling A more often, but we don't abndon B and C. We just pull them less often. If A continues to be the winner, we pull less B and C, and more A. But, if C starts to be the winner, we favor C, and pull less B and C. We repeat this until an overall winner emerge.\n",
        "\n"
      ],
      "metadata": {
        "id": "SSKJizWJsMnS"
      }
    },
    {
      "cell_type": "markdown",
      "source": [
        "**$ϵ$-greedy algorithm for an A/B test:**\n",
        "\n",
        "We want to apply the multi-armed bandit approach to web testing.You have multiple offers, headline, colors, and so on being tested on a website. Customers either **click** (ie **win** for the merchant) or don't click. Initially, the offers are shown randomly and equally. If, however, one offer starts to outperform the others, it can be **shown** (ie. **pulled**) more often.\n",
        "\n",
        "1. Generate a uniformly distributed random number between 0 and 1.\n",
        "2. If the number lies between 0 and $ϵ$ (where $ϵ$ is a number between 0 and 1, typically fairly small), flip a fair coin (50/50 probability), and:\n",
        "  a. If the coin is heads, show offer A.<br>\n",
        "  b. If the coin is tails, show offer B.<br>\n",
        "3. If the number is $\\geq ϵ$, show whichever offer has had the highest response rate to date.\n",
        "\n",
        "$(\\epsilon = 1) ⇒$ standard simple A/B experiment<br>\n",
        "$(\\epsilon = 0) ⇒$ standard greedy A/B experiment<br>\n",
        "\n",
        "Bandit algorithms can efficiently handle more than 3 treatments and mode toward optimal selection of the 'best'."
      ],
      "metadata": {
        "id": "jOIv709e0kOV"
      }
    }
  ]
}