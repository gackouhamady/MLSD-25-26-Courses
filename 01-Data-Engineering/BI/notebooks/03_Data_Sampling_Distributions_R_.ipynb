{
  "nbformat": 4,
  "nbformat_minor": 0,
  "metadata": {
    "colab": {
      "provenance": [],
      "include_colab_link": true
    },
    "kernelspec": {
      "name": "ir",
      "display_name": "R"
    },
    "language_info": {
      "name": "R"
    }
  },
  "cells": [
    {
      "cell_type": "markdown",
      "metadata": {
        "id": "view-in-github",
        "colab_type": "text"
      },
      "source": [
        "<a href=\"https://colab.research.google.com/github/gackouhamady/MLSD-25-26-Courses/blob/main/01-Data-Engineering/BI/notebooks/03_Data_Sampling_Distributions_R_.ipynb\" target=\"_parent\"><img src=\"https://colab.research.google.com/assets/colab-badge.svg\" alt=\"Open In Colab\"/></a>"
      ]
    },
    {
      "cell_type": "markdown",
      "source": [
        "# **Data Sampling Distributions**\n",
        "\n"
      ],
      "metadata": {
        "id": "sWZrNRknsc9V"
      }
    },
    {
      "cell_type": "code",
      "source": [
        "if (!require(boot)) install.packages('boot')\n",
        "if (!require(ggplot2)) install.packages('ggplot2')"
      ],
      "metadata": {
        "id": "FAPP-d7eqwHN"
      },
      "execution_count": null,
      "outputs": []
    },
    {
      "cell_type": "code",
      "execution_count": null,
      "metadata": {
        "id": "i4_w135wqXWp"
      },
      "outputs": [],
      "source": [
        "library(boot)\n",
        "library(ggplot2)"
      ]
    },
    {
      "cell_type": "markdown",
      "source": [
        "# Illustrating the *central limit theorem*\n",
        "\n",
        "$\\underline{Central~limit~theorem}$ : the means drawn from multiple samples will resemble the familiar bell-shaped normal curve, even if the population is not normally\n",
        "distributed, provided that:<br>\n",
        "- the sample size is large enough<br>\n",
        "- the departure of the data from normality is not too great"
      ],
      "metadata": {
        "id": "zcTHskYIU-Jb"
      }
    },
    {
      "cell_type": "code",
      "source": [
        "# Load the data\n",
        "loans_income <- read.csv(file.path('sample_data', 'loans_income.csv'))\n",
        "dim(loans_income); head(loans_income)"
      ],
      "metadata": {
        "id": "e9snxfjuWQxp",
        "colab": {
          "base_uri": "https://localhost:8080/",
          "height": 338
        },
        "outputId": "197e9468-5c13-4d07-a09b-a55c0cc7e12b"
      },
      "execution_count": null,
      "outputs": [
        {
          "output_type": "display_data",
          "data": {
            "text/html": [
              "<style>\n",
              ".list-inline {list-style: none; margin:0; padding: 0}\n",
              ".list-inline>li {display: inline-block}\n",
              ".list-inline>li:not(:last-child)::after {content: \"\\00b7\"; padding: 0 .5ex}\n",
              "</style>\n",
              "<ol class=list-inline><li>50000</li><li>1</li></ol>\n"
            ],
            "text/markdown": "1. 50000\n2. 1\n\n\n",
            "text/latex": "\\begin{enumerate*}\n\\item 50000\n\\item 1\n\\end{enumerate*}\n",
            "text/plain": [
              "[1] 50000     1"
            ]
          },
          "metadata": {}
        },
        {
          "output_type": "display_data",
          "data": {
            "text/html": [
              "<table class=\"dataframe\">\n",
              "<caption>A data.frame: 6 × 1</caption>\n",
              "<thead>\n",
              "\t<tr><th></th><th scope=col>x</th></tr>\n",
              "\t<tr><th></th><th scope=col>&lt;int&gt;</th></tr>\n",
              "</thead>\n",
              "<tbody>\n",
              "\t<tr><th scope=row>1</th><td> 67000</td></tr>\n",
              "\t<tr><th scope=row>2</th><td> 52000</td></tr>\n",
              "\t<tr><th scope=row>3</th><td>100000</td></tr>\n",
              "\t<tr><th scope=row>4</th><td> 78762</td></tr>\n",
              "\t<tr><th scope=row>5</th><td> 37041</td></tr>\n",
              "\t<tr><th scope=row>6</th><td> 33000</td></tr>\n",
              "</tbody>\n",
              "</table>\n"
            ],
            "text/markdown": "\nA data.frame: 6 × 1\n\n| <!--/--> | x &lt;int&gt; |\n|---|---|\n| 1 |  67000 |\n| 2 |  52000 |\n| 3 | 100000 |\n| 4 |  78762 |\n| 5 |  37041 |\n| 6 |  33000 |\n\n",
            "text/latex": "A data.frame: 6 × 1\n\\begin{tabular}{r|l}\n  & x\\\\\n  & <int>\\\\\n\\hline\n\t1 &  67000\\\\\n\t2 &  52000\\\\\n\t3 & 100000\\\\\n\t4 &  78762\\\\\n\t5 &  37041\\\\\n\t6 &  33000\\\\\n\\end{tabular}\n",
            "text/plain": [
              "  x     \n",
              "1  67000\n",
              "2  52000\n",
              "3 100000\n",
              "4  78762\n",
              "5  37041\n",
              "6  33000"
            ]
          },
          "metadata": {}
        }
      ]
    },
    {
      "cell_type": "code",
      "source": [
        "# convert data frame to vector\n",
        "loans_income <- loans_income[, 1]"
      ],
      "metadata": {
        "id": "cbr0ayy1OAZy"
      },
      "execution_count": null,
      "outputs": []
    },
    {
      "cell_type": "code",
      "source": [
        "# take a simple random sample\n",
        "samp_data <- data.frame(income=sample(loans_income, 1000),\n",
        "                        type='data_dist')\n",
        "\n",
        "# take a sample of means of 5 values\n",
        "samp_mean_05 <- data.frame(\n",
        "  income = tapply(sample(loans_income, 1000*5), rep(1:1000, rep(5, 1000)), FUN=mean), type = 'mean_of_5')\n",
        "\n",
        "# take a sample of means of 20 values\n",
        "samp_mean_20 <- data.frame(\n",
        "  income = tapply(sample(loans_income, 1000*20),\n",
        "                  rep(1:1000, rep(20, 1000)), FUN=mean),\n",
        "  type = 'mean_of_20')\n",
        "\n",
        "# bind the data.frames and convert type to a factor\n",
        "income <- rbind(samp_data, samp_mean_05, samp_mean_20)\n",
        "income$type <- factor(income$type,\n",
        "                     levels=c('data_dist', 'mean_of_5', 'mean_of_20'),\n",
        "                     labels=c('Data', 'Mean of 5', 'Mean of 20'))\n",
        "head(income)"
      ],
      "metadata": {
        "colab": {
          "base_uri": "https://localhost:8080/",
          "height": 286
        },
        "id": "gEkIYaSDVFj3",
        "outputId": "d32ed717-c971-4aa8-c1b4-bf32432831d3"
      },
      "execution_count": null,
      "outputs": [
        {
          "output_type": "display_data",
          "data": {
            "text/html": [
              "<table class=\"dataframe\">\n",
              "<caption>A data.frame: 6 × 2</caption>\n",
              "<thead>\n",
              "\t<tr><th></th><th scope=col>income</th><th scope=col>type</th></tr>\n",
              "\t<tr><th></th><th scope=col>&lt;dbl&gt;</th><th scope=col>&lt;fct&gt;</th></tr>\n",
              "</thead>\n",
              "<tbody>\n",
              "\t<tr><th scope=row>1</th><td> 80000</td><td>Data</td></tr>\n",
              "\t<tr><th scope=row>2</th><td> 73200</td><td>Data</td></tr>\n",
              "\t<tr><th scope=row>3</th><td> 70000</td><td>Data</td></tr>\n",
              "\t<tr><th scope=row>4</th><td>127000</td><td>Data</td></tr>\n",
              "\t<tr><th scope=row>5</th><td> 25800</td><td>Data</td></tr>\n",
              "\t<tr><th scope=row>6</th><td> 60000</td><td>Data</td></tr>\n",
              "</tbody>\n",
              "</table>\n"
            ],
            "text/markdown": "\nA data.frame: 6 × 2\n\n| <!--/--> | income &lt;dbl&gt; | type &lt;fct&gt; |\n|---|---|---|\n| 1 |  80000 | Data |\n| 2 |  73200 | Data |\n| 3 |  70000 | Data |\n| 4 | 127000 | Data |\n| 5 |  25800 | Data |\n| 6 |  60000 | Data |\n\n",
            "text/latex": "A data.frame: 6 × 2\n\\begin{tabular}{r|ll}\n  & income & type\\\\\n  & <dbl> & <fct>\\\\\n\\hline\n\t1 &  80000 & Data\\\\\n\t2 &  73200 & Data\\\\\n\t3 &  70000 & Data\\\\\n\t4 & 127000 & Data\\\\\n\t5 &  25800 & Data\\\\\n\t6 &  60000 & Data\\\\\n\\end{tabular}\n",
            "text/plain": [
              "  income type\n",
              "1  80000 Data\n",
              "2  73200 Data\n",
              "3  70000 Data\n",
              "4 127000 Data\n",
              "5  25800 Data\n",
              "6  60000 Data"
            ]
          },
          "metadata": {}
        }
      ]
    },
    {
      "cell_type": "code",
      "source": [
        "ggplot(income, aes(x=income)) +\n",
        "  geom_histogram(bins=40) +\n",
        "  facet_grid(type ~ .)"
      ],
      "metadata": {
        "colab": {
          "base_uri": "https://localhost:8080/",
          "height": 437
        },
        "id": "oFLHaY08XzPD",
        "outputId": "549c0f09-6520-4957-f165-ebb2aae734ec"
      },
      "execution_count": null,
      "outputs": [
        {
          "output_type": "display_data",
          "data": {
            "text/plain": [
              "plot without title"
            ],
            "image/png": "[encoded data removed]"
          },
          "metadata": {
            "image/png": {
              "width": 420,
              "height": 420
            }
          }
        }
      ]
    },
    {
      "cell_type": "markdown",
      "source": [
        "# The Bootstrap\n",
        "\n",
        "$\\underline{Objective}$ : estimate the sampling distribution of a statistic, or of model parameters<br>\n",
        "\n",
        "$\\underline{How?}$ : draw additional samples, with replacement, from the sample itself and recalculate the statistic or model for each resample\n",
        "\n",
        "$\\underline{Why?}$ :\n",
        "- a model might be run on the bootstrapped data to estimate the stability (**variability**) of model parameters\n",
        "- running multiple trees on bootstrap samples and then averaging their predictions generally performs better than using a single tree (**bagging**)"
      ],
      "metadata": {
        "id": "HkbYpzSSYg4m"
      }
    },
    {
      "cell_type": "markdown",
      "source": [
        "Algorithm for a **bootstrap resampling** of the **mean** (sample size $n$):<br>\n",
        " 1. Draw a sample value, record it, and then replace it.\n",
        " 2. Repeat $n$ times.\n",
        " 3. Record the mean of the $n$ resampled values.\n",
        " 4. Repeat steps 1-3 $R$ times.\n",
        " 5. Use the $R$ results to:<br>\n",
        "  a. Calculate their standard deviation *(this estimates sample mean standard error $=SE=\\frac{s}{\\sqrt{n}}$*).<br>\n",
        "  b. Produce a histogram or boxplot.<br>\n",
        "  c. Find a confidence interval."
      ],
      "metadata": {
        "id": "G-DPFuJoZkVP"
      }
    },
    {
      "cell_type": "code",
      "source": [
        "# Apply bootstrap to the incomes of people taking out loans\n",
        "stat_fun <- function(x, idx) median(x[idx])\n",
        "boot_obj <- boot(loans_income, R=1000, statistic=stat_fun)\n",
        "\n",
        "boot_obj\n",
        "\n",
        "# Bias: difference between the mean of the statistic estimates and the population value\n",
        "# In our example: the average median across 1,000 experiments under-estimates the population median.\n",
        "# For one sample, we can correct for the bias: sample median – (mean of bootstrap estimates – sample median)\n",
        "# More explanations on bias here: https://garstats.wordpress.com/2018/01/23/bias-correction/"
      ],
      "metadata": {
        "colab": {
          "base_uri": "https://localhost:8080/",
          "height": 214
        },
        "id": "HYZUnbJYYkEq",
        "outputId": "e8cf8265-b561-4976-bd76-6547b90cddde"
      },
      "execution_count": null,
      "outputs": [
        {
          "output_type": "display_data",
          "data": {
            "text/plain": [
              "\n",
              "ORDINARY NONPARAMETRIC BOOTSTRAP\n",
              "\n",
              "\n",
              "Call:\n",
              "boot(data = loans_income, statistic = stat_fun, R = 1000)\n",
              "\n",
              "\n",
              "Bootstrap Statistics :\n",
              "    original  bias    std. error\n",
              "t1*    62000 -81.787    224.4373"
            ]
          },
          "metadata": {}
        }
      ]
    },
    {
      "cell_type": "markdown",
      "source": [
        "# Confidence intervals\n",
        "\n",
        "$\\underline{90\\%~Confidence~Interval}$ : it is the interval that encloses the central $90\\%$of the bootstrap sampling distribution of a sample statistic<br>\n",
        "\n",
        "Algorithm for a **bootstrap confidence interval** (sample size $n$):<br>\n",
        " 1. Draw a random sample of size $n$ with replacement from the data.\n",
        " 2. Record the statistic of interest for the resample.\n",
        " 3. Repeat steps 1-2 many (R) times.\n",
        " 4. For an $x\\%$ confidence interval, trim [(100-$x$) / 2]\\% of the $R$ resample results from either end of the distribution.\n",
        " 5. The trim points are the endpoints of an $x\\%$ bootstrap confidence interval."
      ],
      "metadata": {
        "id": "Rd8XmBmttxQf"
      }
    },
    {
      "cell_type": "code",
      "source": [
        "set.seed(5)\n",
        "set.seed(7)\n",
        "# Let's draw a small sample of 20 individuals\n",
        "sample20 <- sample(loans_income, 20)\n",
        "sampleMean <- mean(sample20)\n",
        "print(sampleMean)"
      ],
      "metadata": {
        "colab": {
          "base_uri": "https://localhost:8080/"
        },
        "id": "90GNBBynwNdu",
        "outputId": "6b8ea994-0a14-45ac-aa1f-89ec79af2254"
      },
      "execution_count": null,
      "outputs": [
        {
          "output_type": "stream",
          "name": "stdout",
          "text": [
            "[1] 58447.25\n"
          ]
        }
      ]
    },
    {
      "cell_type": "code",
      "source": [
        "# Compute a boostrap for the sample mean\n",
        "stat_fun <- function(x, idx) mean(x[idx])\n",
        "boot_obj <- boot(sample20, R=500, statistic=stat_fun)\n",
        "\n",
        "# Get the confidence interval\n",
        "boot_ci <- boot.ci(boot_obj, conf=0.9, type='basic')\n",
        "X <- data.frame(mean=boot_obj$t)\n",
        "\n",
        "ci90 <- boot_ci$basic[4:5]\n",
        "ci <- data.frame(ci=ci90, y=c(9, 11))"
      ],
      "metadata": {
        "id": "__VwYsZew8aw"
      },
      "execution_count": null,
      "outputs": []
    },
    {
      "cell_type": "code",
      "source": [
        "ci\n",
        "ggplot(X, aes(x=mean)) +\n",
        "    geom_histogram(bins=40, fill='#AAAAAA') +\n",
        "    geom_vline(xintercept=sampleMean, linetype=2) +\n",
        "    geom_path(aes(x=ci, y=10), data=ci, size=2) +\n",
        "    geom_path(aes(x=ci90[1], y=y), data=ci, size=2) +\n",
        "    geom_path(aes(x=ci90[2], y=y), data=ci, size=2) +\n",
        "    geom_text(aes(x=sampleMean, y=20, label='Sample mean'), size=6) +\n",
        "    geom_text(aes(x=sampleMean, y=8, label='90% interval'), size=6) +\n",
        "    theme_bw() +\n",
        "    labs(x='', y='Counts')\n",
        "\n",
        "# NB:\n",
        "# - the smaller the sample, the wider the interval (i.e. the greater the uncertainty)\n",
        "# - the higher the level of confidence ($x\\%$), the wider the interval"
      ],
      "metadata": {
        "colab": {
          "base_uri": "https://localhost:8080/",
          "height": 581
        },
        "id": "9TLXwnPAxBMk",
        "outputId": "4189b580-fa3f-4bba-c762-2d09c2d2d62f"
      },
      "execution_count": null,
      "outputs": [
        {
          "output_type": "display_data",
          "data": {
            "text/html": [
              "<table class=\"dataframe\">\n",
              "<caption>A data.frame: 2 × 2</caption>\n",
              "<thead>\n",
              "\t<tr><th scope=col>ci</th><th scope=col>y</th></tr>\n",
              "\t<tr><th scope=col>&lt;dbl&gt;</th><th scope=col>&lt;dbl&gt;</th></tr>\n",
              "</thead>\n",
              "<tbody>\n",
              "\t<tr><td>51643.09</td><td> 9</td></tr>\n",
              "\t<tr><td>65262.95</td><td>11</td></tr>\n",
              "</tbody>\n",
              "</table>\n"
            ],
            "text/markdown": "\nA data.frame: 2 × 2\n\n| ci &lt;dbl&gt; | y &lt;dbl&gt; |\n|---|---|\n| 51643.09 |  9 |\n| 65262.95 | 11 |\n\n",
            "text/latex": "A data.frame: 2 × 2\n\\begin{tabular}{ll}\n ci & y\\\\\n <dbl> & <dbl>\\\\\n\\hline\n\t 51643.09 &  9\\\\\n\t 65262.95 & 11\\\\\n\\end{tabular}\n",
            "text/plain": [
              "  ci       y \n",
              "1 51643.09  9\n",
              "2 65262.95 11"
            ]
          },
          "metadata": {}
        },
        {
          "output_type": "display_data",
          "data": {
            "text/plain": [
              "plot without title"
            ],
            "image/png": "[encoded data removed]"
          },
          "metadata": {
            "image/png": {
              "width": 420,
              "height": 420
            }
          }
        }
      ]
    },
    {
      "cell_type": "markdown",
      "source": [
        "# Normal distribution"
      ],
      "metadata": {
        "id": "JoA8ig_5zYo2"
      }
    },
    {
      "cell_type": "markdown",
      "source": [
        "### Standard Normal and QQ-Plots"
      ],
      "metadata": {
        "id": "IaxCB89Cirx0"
      }
    },
    {
      "cell_type": "markdown",
      "source": [
        "$\\underline{Standard~normal}$ distribution is a normal distribution with $mean=0$ and $standard~ deviation=1$.\n",
        "\n",
        "$\\underline{Standardization}$ : you subtract the mean and divide by the standard deviation. The transformed value is named *z-score*."
      ],
      "metadata": {
        "id": "6yz2L03Zk35W"
      }
    },
    {
      "cell_type": "markdown",
      "source": [
        "A $\\underline{QQ-Plot}$ is used to *visually* determine how close a sample is to a specified distribution, here the normal distribution.\n",
        "\n",
        "$\\underline{How?}$<br>\n",
        "- z-scores are ordered from low to high and plots each value's z-score on the y-axis.\n",
        "- x-axis corresponds to quantile of a normal distribution for that value's rank.\n",
        "- since the data is normalized, the units correspond to the number of standard deviation away from the mean.\n",
        "\n",
        "If the points roughly fall on the diagonal line, then the sample distribution can be considered close to normal."
      ],
      "metadata": {
        "id": "ZqjGGyJjlDR9"
      }
    },
    {
      "cell_type": "code",
      "source": [
        "# QQ-Plot for a sample of 100 values randomly generated from a normal distribution\n",
        "# - the points closely follow the line\n",
        "norm_samp <- rnorm(100)\n",
        "qqnorm(norm_samp, main='', xlab='Quantile of normal distribution', ylab='z-score')\n",
        "abline(a=0, b=1, col='grey')\n",
        "\n",
        "# NB:\n",
        "# Raw data is typically not normally distributed, errors often are, as are\n",
        "# average and totals in large samples"
      ],
      "metadata": {
        "colab": {
          "base_uri": "https://localhost:8080/",
          "height": 437
        },
        "id": "V82ES-wumYbU",
        "outputId": "eb1b3681-bd18-4fc2-b361-114b5f042b3d"
      },
      "execution_count": null,
      "outputs": [
        {
          "output_type": "display_data",
          "data": {
            "text/plain": [
              "Plot with title “”"
            ],
            "image/png": "[encoded data removed]"
          },
          "metadata": {
            "image/png": {
              "width": 420,
              "height": 420
            }
          }
        }
      ]
    },
    {
      "cell_type": "markdown",
      "source": [
        "# Long-tailed distributions\n",
        "\n",
        "The data distribution can be highly *skewed* (asymmetric) and have a long *tail*. Symmetric distribution can also have long tails."
      ],
      "metadata": {
        "id": "Pps3ctUSn42u"
      }
    },
    {
      "cell_type": "code",
      "source": [
        "# QQ-Plot for the daily stock returns for Netflix (NFLX)\n",
        "sp500_px <- read.csv(file.path('sample_data', 'sp500_data.csv'), row.names=1)"
      ],
      "metadata": {
        "id": "Ebkl-eNyqyJ_",
        "colab": {
          "base_uri": "https://localhost:8080/",
          "height": 223
        },
        "outputId": "205f06bf-1db1-4c21-e86a-b71acd2594fd"
      },
      "execution_count": null,
      "outputs": [
        {
          "output_type": "stream",
          "name": "stderr",
          "text": [
            "Warning message in file(file, \"rt\"):\n",
            "“cannot open file 'sample_data/sp500_data.csv': No such file or directory”\n"
          ]
        },
        {
          "output_type": "error",
          "ename": "ERROR",
          "evalue": "ignored",
          "traceback": [
            "Error in file(file, \"rt\"): cannot open the connection\nTraceback:\n",
            "1. read.csv(file.path(\"sample_data\", \"sp500_data.csv\"), row.names = 1)",
            "2. read.table(file = file, header = header, sep = sep, quote = quote, \n .     dec = dec, fill = fill, comment.char = comment.char, ...)",
            "3. file(file, \"rt\")"
          ]
        }
      ]
    },
    {
      "cell_type": "code",
      "source": [
        "nflx <- sp500_px[,'NFX']\n",
        "nflx <- diff(log(nflx[nflx>0]))\n",
        "qqnorm(nflx)\n",
        "abline(a=0, b=1, col='grey')\n",
        "\n",
        "# NB:\n",
        "# - the points are far below the line for low values and far above the line\n",
        "#  for high values\n",
        "# => the data are not normally distributed, ie. we are much more likely to\n",
        "# observe extreme values than would be expected if the data had a normal\n",
        "# distribution"
      ],
      "metadata": {
        "colab": {
          "base_uri": "https://localhost:8080/",
          "height": 437
        },
        "id": "tMxzf_3mrsig",
        "outputId": "7aedb39b-d16c-49c2-b83a-a2637672ab15"
      },
      "execution_count": null,
      "outputs": [
        {
          "output_type": "display_data",
          "data": {
            "text/plain": [
              "Plot with title “Normal Q-Q Plot”"
            ],
            "image/png": "[encoded data removed]"
          },
          "metadata": {
            "image/png": {
              "width": 420,
              "height": 420
            }
          }
        }
      ]
    },
    {
      "cell_type": "markdown",
      "source": [
        "# Student's t-distribution\n",
        "\n",
        "It is a normally shaped distribution, but a bit thicker and longer on tails. Distribution of sample means are typically shaped like a t-distribution. The larger the sample, the more normally shaped the t-distribution becomes."
      ],
      "metadata": {
        "id": "wxB_ii9ZtONy"
      }
    },
    {
      "cell_type": "markdown",
      "source": [
        "# Binomial distribution\n",
        "\n",
        "Flipping a coin 10 times is a binomial experiment with 10 *trials*. Each trial has two possible outcomes, heads or tails (*binary* outcomes). Any probabilities that some to $1$ are possible.\n",
        "\n",
        "The **binomial distribution** is the frequency distribution of the number of successes ($x=1$) in a given number of trials ($n$) with specified probability ($p$) of success in each trial.\n",
        "\n",
        "With large $n$, and provided $p$ is not too close to 0 or 1, the binomial distribution can be approximated by the normal distribution."
      ],
      "metadata": {
        "id": "htc01cjmuhZg"
      }
    },
    {
      "cell_type": "code",
      "source": [
        "# Question:\n",
        "# If the probability of a click converting to a sale is 0.02, what is the\n",
        "# probability of observing 0 sales in 2000 clicks?\n",
        "dbinom(x=0, size=200, p=0.02)\n",
        "\n",
        "# NB: the probability is 0.0176\n",
        "# - 0 successes\n",
        "# - 5 trials\n",
        "# - probability of sucess is 0.02"
      ],
      "metadata": {
        "id": "Eavn4HYAwJgG"
      },
      "execution_count": null,
      "outputs": []
    },
    {
      "cell_type": "code",
      "source": [
        "# Question:\n",
        "# What is the probability of x = 2 or fewer sucesses in n=5 trials, where the\n",
        "# probability of success for each trial is 0.1.\n",
        "pbinom(2, 5, 0.1)"
      ],
      "metadata": {
        "colab": {
          "base_uri": "https://localhost:8080/",
          "height": 51
        },
        "id": "RcR1r1oUxYLx",
        "outputId": "bdb28100-a4af-40d8-9e06-27ee1878edfa"
      },
      "execution_count": null,
      "outputs": [
        {
          "output_type": "display_data",
          "data": {
            "text/html": [
              "0.99144"
            ],
            "text/markdown": "0.99144",
            "text/latex": "0.99144",
            "text/plain": [
              "[1] 0.99144"
            ]
          },
          "metadata": {}
        },
        {
          "output_type": "display_data",
          "data": {
            "text/html": [
              "0.0729"
            ],
            "text/markdown": "0.0729",
            "text/latex": "0.0729",
            "text/plain": [
              "[1] 0.0729"
            ]
          },
          "metadata": {}
        }
      ]
    },
    {
      "cell_type": "code",
      "source": [
        "# NB:\n",
        "dbinom(2, 5, 0.1)"
      ],
      "metadata": {
        "id": "VQFgnoTXyJN9"
      },
      "execution_count": null,
      "outputs": []
    },
    {
      "cell_type": "markdown",
      "source": [
        "# Poisson and related distribution\n",
        "\n",
        "$\\underline{Poisson~distribution}$ ~The frequency distribution of the number of events in sampled units of time or space.<br>\n",
        "\n",
        "$\\underline{Exponential~distribution}$ ~The frequency distribution of the time or distance from one event to the next event.\n",
        "\n",
        "Events occuring randomly at a given overall rate ($λ$):\n",
        "- visitors arriving at a website\n",
        "- imperfections in a square meter fabric\n",
        "- typos per 100 lines of code\n",
        "\n"
      ],
      "metadata": {
        "id": "d5tb5KDUy4p7"
      }
    },
    {
      "cell_type": "code",
      "source": [
        "rpois(100, lambda=2)\n",
        "\n",
        "# This code generate 100 random numbers from a Poisson distribution with\n",
        "# $\\lambda=2$. $\\lambda$ is the mean and the variance for a Poisson distribution.\n",
        "#\n",
        "# Example: if incoming customer service calls average 2 per minute, this code will\n",
        "# simulate 100 minutes, returning hte number of calls in each of those 100 minutes."
      ],
      "metadata": {
        "colab": {
          "base_uri": "https://localhost:8080/",
          "height": 51
        },
        "id": "9gBqja5o0HIm",
        "outputId": "4a27bc60-b62b-48f3-8075-ef78ceb5c592"
      },
      "execution_count": null,
      "outputs": [
        {
          "output_type": "display_data",
          "data": {
            "text/html": [
              "<style>\n",
              ".list-inline {list-style: none; margin:0; padding: 0}\n",
              ".list-inline>li {display: inline-block}\n",
              ".list-inline>li:not(:last-child)::after {content: \"\\00b7\"; padding: 0 .5ex}\n",
              "</style>\n",
              "<ol class=list-inline><li>4</li><li>1</li><li>2</li><li>3</li><li>1</li><li>1</li><li>2</li><li>2</li><li>4</li><li>0</li><li>1</li><li>2</li><li>2</li><li>3</li><li>0</li><li>4</li><li>2</li><li>0</li><li>2</li><li>0</li><li>1</li><li>4</li><li>3</li><li>0</li><li>1</li><li>2</li><li>1</li><li>2</li><li>2</li><li>3</li><li>3</li><li>0</li><li>1</li><li>2</li><li>3</li><li>3</li><li>0</li><li>2</li><li>4</li><li>0</li><li>0</li><li>1</li><li>3</li><li>2</li><li>2</li><li>4</li><li>1</li><li>2</li><li>2</li><li>0</li><li>0</li><li>1</li><li>1</li><li>3</li><li>1</li><li>3</li><li>0</li><li>4</li><li>0</li><li>1</li><li>1</li><li>1</li><li>1</li><li>1</li><li>4</li><li>2</li><li>5</li><li>4</li><li>1</li><li>2</li><li>1</li><li>2</li><li>2</li><li>2</li><li>0</li><li>0</li><li>2</li><li>0</li><li>3</li><li>1</li><li>2</li><li>0</li><li>2</li><li>3</li><li>4</li><li>0</li><li>2</li><li>3</li><li>3</li><li>2</li><li>2</li><li>2</li><li>1</li><li>2</li><li>2</li><li>2</li><li>3</li><li>1</li><li>2</li><li>2</li></ol>\n"
            ],
            "text/markdown": "1. 4\n2. 1\n3. 2\n4. 3\n5. 1\n6. 1\n7. 2\n8. 2\n9. 4\n10. 0\n11. 1\n12. 2\n13. 2\n14. 3\n15. 0\n16. 4\n17. 2\n18. 0\n19. 2\n20. 0\n21. 1\n22. 4\n23. 3\n24. 0\n25. 1\n26. 2\n27. 1\n28. 2\n29. 2\n30. 3\n31. 3\n32. 0\n33. 1\n34. 2\n35. 3\n36. 3\n37. 0\n38. 2\n39. 4\n40. 0\n41. 0\n42. 1\n43. 3\n44. 2\n45. 2\n46. 4\n47. 1\n48. 2\n49. 2\n50. 0\n51. 0\n52. 1\n53. 1\n54. 3\n55. 1\n56. 3\n57. 0\n58. 4\n59. 0\n60. 1\n61. 1\n62. 1\n63. 1\n64. 1\n65. 4\n66. 2\n67. 5\n68. 4\n69. 1\n70. 2\n71. 1\n72. 2\n73. 2\n74. 2\n75. 0\n76. 0\n77. 2\n78. 0\n79. 3\n80. 1\n81. 2\n82. 0\n83. 2\n84. 3\n85. 4\n86. 0\n87. 2\n88. 3\n89. 3\n90. 2\n91. 2\n92. 2\n93. 1\n94. 2\n95. 2\n96. 2\n97. 3\n98. 1\n99. 2\n100. 2\n\n\n",
            "text/latex": "\\begin{enumerate*}\n\\item 4\n\\item 1\n\\item 2\n\\item 3\n\\item 1\n\\item 1\n\\item 2\n\\item 2\n\\item 4\n\\item 0\n\\item 1\n\\item 2\n\\item 2\n\\item 3\n\\item 0\n\\item 4\n\\item 2\n\\item 0\n\\item 2\n\\item 0\n\\item 1\n\\item 4\n\\item 3\n\\item 0\n\\item 1\n\\item 2\n\\item 1\n\\item 2\n\\item 2\n\\item 3\n\\item 3\n\\item 0\n\\item 1\n\\item 2\n\\item 3\n\\item 3\n\\item 0\n\\item 2\n\\item 4\n\\item 0\n\\item 0\n\\item 1\n\\item 3\n\\item 2\n\\item 2\n\\item 4\n\\item 1\n\\item 2\n\\item 2\n\\item 0\n\\item 0\n\\item 1\n\\item 1\n\\item 3\n\\item 1\n\\item 3\n\\item 0\n\\item 4\n\\item 0\n\\item 1\n\\item 1\n\\item 1\n\\item 1\n\\item 1\n\\item 4\n\\item 2\n\\item 5\n\\item 4\n\\item 1\n\\item 2\n\\item 1\n\\item 2\n\\item 2\n\\item 2\n\\item 0\n\\item 0\n\\item 2\n\\item 0\n\\item 3\n\\item 1\n\\item 2\n\\item 0\n\\item 2\n\\item 3\n\\item 4\n\\item 0\n\\item 2\n\\item 3\n\\item 3\n\\item 2\n\\item 2\n\\item 2\n\\item 1\n\\item 2\n\\item 2\n\\item 2\n\\item 3\n\\item 1\n\\item 2\n\\item 2\n\\end{enumerate*}\n",
            "text/plain": [
              "  [1] 4 1 2 3 1 1 2 2 4 0 1 2 2 3 0 4 2 0 2 0 1 4 3 0 1 2 1 2 2 3 3 0 1 2 3 3 0\n",
              " [38] 2 4 0 0 1 3 2 2 4 1 2 2 0 0 1 1 3 1 3 0 4 0 1 1 1 1 1 4 2 5 4 1 2 1 2 2 2\n",
              " [75] 0 0 2 0 3 1 2 0 2 3 4 0 2 3 3 2 2 2 1 2 2 2 3 1 2 2"
            ]
          },
          "metadata": {}
        }
      ]
    },
    {
      "cell_type": "code",
      "source": [
        "rexp(n=100, rate=.2)\n",
        "\n",
        "# Thie code generate 100 random numbers from an exponential distribution where\n",
        "# the mean number of events per time period is 0.2.\n",
        "#\n",
        "# Example: it simulates 100 intervals, in minutes, between service calls, where\n",
        "# the average rate of incoming calls is 0.2 per minute."
      ],
      "metadata": {
        "colab": {
          "base_uri": "https://localhost:8080/",
          "height": 204
        },
        "id": "GS9V8qFU1E6H",
        "outputId": "5ac198f4-32cf-4c04-c637-b9a67c91e057"
      },
      "execution_count": null,
      "outputs": [
        {
          "output_type": "display_data",
          "data": {
            "text/html": [
              "<style>\n",
              ".list-inline {list-style: none; margin:0; padding: 0}\n",
              ".list-inline>li {display: inline-block}\n",
              ".list-inline>li:not(:last-child)::after {content: \"\\00b7\"; padding: 0 .5ex}\n",
              "</style>\n",
              "<ol class=list-inline><li>3.3013691729866</li><li>2.70081119611859</li><li>3.89184338019645</li><li>1.28004741622135</li><li>3.40810384368524</li><li>13.6568559606777</li><li>0.450009693898717</li><li>17.5182752580124</li><li>7.2923264195329</li><li>0.974416758399457</li><li>5.89715859831727</li><li>10.3342533386768</li><li>2.56972352042794</li><li>1.875478932634</li><li>1.99634607881308</li><li>4.62937210850371</li><li>3.93374628366387</li><li>7.00575895657167</li><li>1.62928367964923</li><li>10.5233372955739</li><li>3.1910565122962</li><li>11.5884623577105</li><li>10.1933230362357</li><li>1.55375056338441</li><li>12.8485934150623</li><li>2.33333398124199</li><li>10.7446350255935</li><li>3.03497111424804</li><li>2.58302331181421</li><li>9.38256165902031</li><li>5.38057299309826</li><li>0.255211475305259</li><li>5.33314367269582</li><li>4.07208197729147</li><li>3.17704952321947</li><li>0.204065493308008</li><li>0.491644951783808</li><li>8.63081203229327</li><li>3.34562794538215</li><li>2.8999935858883</li><li>1.86757580609992</li><li>5.77615726634764</li><li>5.23042796158648</li><li>9.98549591707897</li><li>7.15030214707267</li><li>3.75027290030432</li><li>1.89346703700721</li><li>3.19183338666335</li><li>5.67442530745125</li><li>8.36582040372205</li><li>15.4368093973937</li><li>0.437655001878738</li><li>2.81235627131537</li><li>7.04052041242731</li><li>7.54143748390389</li><li>11.6651828311274</li><li>8.33965045357955</li><li>1.88781609293073</li><li>2.82757200067863</li><li>15.746201083164</li><li>6.19138811693943</li><li>2.87094244500622</li><li>3.50413898450738</li><li>1.46405649371445</li><li>7.37898356239212</li><li>2.15980807552114</li><li>4.55319579204029</li><li>1.0681898961775</li><li>4.84893647001541</li><li>0.992641281336546</li><li>6.47060748944756</li><li>1.93069186760113</li><li>5.83856514634049</li><li>6.18799396303898</li><li>7.80909954231243</li><li>5.84467675515866</li><li>3.69626615175462</li><li>1.71823885990307</li><li>4.68946268761015</li><li>5.41567463078478</li><li>0.432246474083513</li><li>6.03551474844521</li><li>5.56153661084777</li><li>1.8576554954052</li><li>6.96025115031156</li><li>2.53527881577611</li><li>0.420962435674774</li><li>16.1185215405169</li><li>1.33193896854182</li><li>0.190721229804135</li><li>1.42358163604513</li><li>5.6806036105032</li><li>11.6778292952531</li><li>2.96524404780939</li><li>7.17256554360402</li><li>2.36785346409306</li><li>0.593800096425556</li><li>2.44983487064019</li><li>8.16281938305982</li><li>6.67447459397322</li></ol>\n"
            ],
            "text/markdown": "1. 3.3013691729866\n2. 2.70081119611859\n3. 3.89184338019645\n4. 1.28004741622135\n5. 3.40810384368524\n6. 13.6568559606777\n7. 0.450009693898717\n8. 17.5182752580124\n9. 7.2923264195329\n10. 0.974416758399457\n11. 5.89715859831727\n12. 10.3342533386768\n13. 2.56972352042794\n14. 1.875478932634\n15. 1.99634607881308\n16. 4.62937210850371\n17. 3.93374628366387\n18. 7.00575895657167\n19. 1.62928367964923\n20. 10.5233372955739\n21. 3.1910565122962\n22. 11.5884623577105\n23. 10.1933230362357\n24. 1.55375056338441\n25. 12.8485934150623\n26. 2.33333398124199\n27. 10.7446350255935\n28. 3.03497111424804\n29. 2.58302331181421\n30. 9.38256165902031\n31. 5.38057299309826\n32. 0.255211475305259\n33. 5.33314367269582\n34. 4.07208197729147\n35. 3.17704952321947\n36. 0.204065493308008\n37. 0.491644951783808\n38. 8.63081203229327\n39. 3.34562794538215\n40. 2.8999935858883\n41. 1.86757580609992\n42. 5.77615726634764\n43. 5.23042796158648\n44. 9.98549591707897\n45. 7.15030214707267\n46. 3.75027290030432\n47. 1.89346703700721\n48. 3.19183338666335\n49. 5.67442530745125\n50. 8.36582040372205\n51. 15.4368093973937\n52. 0.437655001878738\n53. 2.81235627131537\n54. 7.04052041242731\n55. 7.54143748390389\n56. 11.6651828311274\n57. 8.33965045357955\n58. 1.88781609293073\n59. 2.82757200067863\n60. 15.746201083164\n61. 6.19138811693943\n62. 2.87094244500622\n63. 3.50413898450738\n64. 1.46405649371445\n65. 7.37898356239212\n66. 2.15980807552114\n67. 4.55319579204029\n68. 1.0681898961775\n69. 4.84893647001541\n70. 0.992641281336546\n71. 6.47060748944756\n72. 1.93069186760113\n73. 5.83856514634049\n74. 6.18799396303898\n75. 7.80909954231243\n76. 5.84467675515866\n77. 3.69626615175462\n78. 1.71823885990307\n79. 4.68946268761015\n80. 5.41567463078478\n81. 0.432246474083513\n82. 6.03551474844521\n83. 5.56153661084777\n84. 1.8576554954052\n85. 6.96025115031156\n86. 2.53527881577611\n87. 0.420962435674774\n88. 16.1185215405169\n89. 1.33193896854182\n90. 0.190721229804135\n91. 1.42358163604513\n92. 5.6806036105032\n93. 11.6778292952531\n94. 2.96524404780939\n95. 7.17256554360402\n96. 2.36785346409306\n97. 0.593800096425556\n98. 2.44983487064019\n99. 8.16281938305982\n100. 6.67447459397322\n\n\n",
            "text/latex": "\\begin{enumerate*}\n\\item 3.3013691729866\n\\item 2.70081119611859\n\\item 3.89184338019645\n\\item 1.28004741622135\n\\item 3.40810384368524\n\\item 13.6568559606777\n\\item 0.450009693898717\n\\item 17.5182752580124\n\\item 7.2923264195329\n\\item 0.974416758399457\n\\item 5.89715859831727\n\\item 10.3342533386768\n\\item 2.56972352042794\n\\item 1.875478932634\n\\item 1.99634607881308\n\\item 4.62937210850371\n\\item 3.93374628366387\n\\item 7.00575895657167\n\\item 1.62928367964923\n\\item 10.5233372955739\n\\item 3.1910565122962\n\\item 11.5884623577105\n\\item 10.1933230362357\n\\item 1.55375056338441\n\\item 12.8485934150623\n\\item 2.33333398124199\n\\item 10.7446350255935\n\\item 3.03497111424804\n\\item 2.58302331181421\n\\item 9.38256165902031\n\\item 5.38057299309826\n\\item 0.255211475305259\n\\item 5.33314367269582\n\\item 4.07208197729147\n\\item 3.17704952321947\n\\item 0.204065493308008\n\\item 0.491644951783808\n\\item 8.63081203229327\n\\item 3.34562794538215\n\\item 2.8999935858883\n\\item 1.86757580609992\n\\item 5.77615726634764\n\\item 5.23042796158648\n\\item 9.98549591707897\n\\item 7.15030214707267\n\\item 3.75027290030432\n\\item 1.89346703700721\n\\item 3.19183338666335\n\\item 5.67442530745125\n\\item 8.36582040372205\n\\item 15.4368093973937\n\\item 0.437655001878738\n\\item 2.81235627131537\n\\item 7.04052041242731\n\\item 7.54143748390389\n\\item 11.6651828311274\n\\item 8.33965045357955\n\\item 1.88781609293073\n\\item 2.82757200067863\n\\item 15.746201083164\n\\item 6.19138811693943\n\\item 2.87094244500622\n\\item 3.50413898450738\n\\item 1.46405649371445\n\\item 7.37898356239212\n\\item 2.15980807552114\n\\item 4.55319579204029\n\\item 1.0681898961775\n\\item 4.84893647001541\n\\item 0.992641281336546\n\\item 6.47060748944756\n\\item 1.93069186760113\n\\item 5.83856514634049\n\\item 6.18799396303898\n\\item 7.80909954231243\n\\item 5.84467675515866\n\\item 3.69626615175462\n\\item 1.71823885990307\n\\item 4.68946268761015\n\\item 5.41567463078478\n\\item 0.432246474083513\n\\item 6.03551474844521\n\\item 5.56153661084777\n\\item 1.8576554954052\n\\item 6.96025115031156\n\\item 2.53527881577611\n\\item 0.420962435674774\n\\item 16.1185215405169\n\\item 1.33193896854182\n\\item 0.190721229804135\n\\item 1.42358163604513\n\\item 5.6806036105032\n\\item 11.6778292952531\n\\item 2.96524404780939\n\\item 7.17256554360402\n\\item 2.36785346409306\n\\item 0.593800096425556\n\\item 2.44983487064019\n\\item 8.16281938305982\n\\item 6.67447459397322\n\\end{enumerate*}\n",
            "text/plain": [
              "  [1]  3.3013692  2.7008112  3.8918434  1.2800474  3.4081038 13.6568560\n",
              "  [7]  0.4500097 17.5182753  7.2923264  0.9744168  5.8971586 10.3342533\n",
              " [13]  2.5697235  1.8754789  1.9963461  4.6293721  3.9337463  7.0057590\n",
              " [19]  1.6292837 10.5233373  3.1910565 11.5884624 10.1933230  1.5537506\n",
              " [25] 12.8485934  2.3333340 10.7446350  3.0349711  2.5830233  9.3825617\n",
              " [31]  5.3805730  0.2552115  5.3331437  4.0720820  3.1770495  0.2040655\n",
              " [37]  0.4916450  8.6308120  3.3456279  2.8999936  1.8675758  5.7761573\n",
              " [43]  5.2304280  9.9854959  7.1503021  3.7502729  1.8934670  3.1918334\n",
              " [49]  5.6744253  8.3658204 15.4368094  0.4376550  2.8123563  7.0405204\n",
              " [55]  7.5414375 11.6651828  8.3396505  1.8878161  2.8275720 15.7462011\n",
              " [61]  6.1913881  2.8709424  3.5041390  1.4640565  7.3789836  2.1598081\n",
              " [67]  4.5531958  1.0681899  4.8489365  0.9926413  6.4706075  1.9306919\n",
              " [73]  5.8385651  6.1879940  7.8090995  5.8446768  3.6962662  1.7182389\n",
              " [79]  4.6894627  5.4156746  0.4322465  6.0355147  5.5615366  1.8576555\n",
              " [85]  6.9602512  2.5352788  0.4209624 16.1185215  1.3319390  0.1907212\n",
              " [91]  1.4235816  5.6806036 11.6778293  2.9652440  7.1725655  2.3678535\n",
              " [97]  0.5938001  2.4498349  8.1628194  6.6744746"
            ]
          },
          "metadata": {}
        }
      ]
    }
  ]
}