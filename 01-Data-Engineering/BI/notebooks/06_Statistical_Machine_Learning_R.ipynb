{
  "nbformat": 4,
  "nbformat_minor": 0,
  "metadata": {
    "colab": {
      "provenance": [],
      "include_colab_link": true
    },
    "kernelspec": {
      "name": "ir",
      "display_name": "R"
    },
    "language_info": {
      "name": "R"
    }
  },
  "cells": [
    {
      "cell_type": "markdown",
      "metadata": {
        "id": "view-in-github",
        "colab_type": "text"
      },
      "source": [
        "<a href=\"https://colab.research.google.com/github/gackouhamady/MLSD-25-26-Courses/blob/main/01-Data-Engineering/BI/notebooks/06_Statistical_Machine_Learning_R.ipynb\" target=\"_parent\"><img src=\"https://colab.research.google.com/assets/colab-badge.svg\" alt=\"Open In Colab\"/></a>"
      ]
    },
    {
      "cell_type": "markdown",
      "source": [
        "# **Statistical Machine Learning**\n"
      ],
      "metadata": {
        "id": "sWZrNRknsc9V"
      }
    },
    {
      "cell_type": "code",
      "source": [
        "if (!require(dplyr)) install.packages('dplyr')\n",
        "if (!require(ggplot2)) install.packages('ggplot2')\n",
        "if (!require(FNN)) install.packages('FNN')"
      ],
      "metadata": {
        "id": "FAPP-d7eqwHN",
        "colab": {
          "base_uri": "https://localhost:8080/"
        },
        "outputId": "7033d4f8-a5c0-453e-c276-13c76643d185"
      },
      "execution_count": null,
      "outputs": [
        {
          "output_type": "stream",
          "name": "stderr",
          "text": [
            "Loading required package: dplyr\n",
            "\n",
            "\n",
            "Attaching package: ‘dplyr’\n",
            "\n",
            "\n",
            "The following objects are masked from ‘package:stats’:\n",
            "\n",
            "    filter, lag\n",
            "\n",
            "\n",
            "The following objects are masked from ‘package:base’:\n",
            "\n",
            "    intersect, setdiff, setequal, union\n",
            "\n",
            "\n",
            "Loading required package: ggplot2\n",
            "\n",
            "Loading required package: FNN\n",
            "\n",
            "Warning message in library(package, lib.loc = lib.loc, character.only = TRUE, logical.return = TRUE, :\n",
            "“there is no package called ‘FNN’”\n",
            "Installing package into ‘/usr/local/lib/R/site-library’\n",
            "(as ‘lib’ is unspecified)\n",
            "\n"
          ]
        }
      ]
    },
    {
      "cell_type": "code",
      "execution_count": null,
      "metadata": {
        "id": "i4_w135wqXWp"
      },
      "outputs": [],
      "source": [
        "library(dplyr)\n",
        "library(ggplot2)\n",
        "library(FNN)"
      ]
    },
    {
      "cell_type": "markdown",
      "source": [
        "# K-Nearest Neighbors\n",
        "\n",
        "## Algorithm\n",
        "For each record to be classified:\n",
        "1. Find $K$ records that have similar feature values.<br>\n",
        "2. For **classification**, find out the majority class among those similar records, and assign that class to the new record.<br>\n",
        "3. For **prediction**, find the average among those similar records, and predicts that average for the new record."
      ],
      "metadata": {
        "id": "zcTHskYIU-Jb"
      }
    },
    {
      "cell_type": "code",
      "source": [
        "# Load the data\n",
        "loan200 <- read.csv(file.path('sample_data', 'loan200.csv'), stringsAsFactors=TRUE)\n",
        "loan200$outcome <- ordered(loan200$outcome, levels=c('paid off', 'default'))\n",
        "head(loan200)"
      ],
      "metadata": {
        "id": "-zZdza4fDTSU",
        "colab": {
          "base_uri": "https://localhost:8080/",
          "height": 283
        },
        "outputId": "3b1126fb-da04-43dd-80c2-8482458deb35"
      },
      "execution_count": null,
      "outputs": [
        {
          "output_type": "display_data",
          "data": {
            "text/html": [
              "<table class=\"dataframe\">\n",
              "<caption>A data.frame: 6 × 3</caption>\n",
              "<thead>\n",
              "\t<tr><th></th><th scope=col>outcome</th><th scope=col>payment_inc_ratio</th><th scope=col>dti</th></tr>\n",
              "\t<tr><th></th><th scope=col>&lt;ord&gt;</th><th scope=col>&lt;dbl&gt;</th><th scope=col>&lt;dbl&gt;</th></tr>\n",
              "</thead>\n",
              "<tbody>\n",
              "\t<tr><th scope=row>1</th><td>NA      </td><td> 9.00000</td><td>22.50</td></tr>\n",
              "\t<tr><th scope=row>2</th><td>default </td><td> 5.46933</td><td>21.33</td></tr>\n",
              "\t<tr><th scope=row>3</th><td>paid off</td><td> 6.90294</td><td> 8.97</td></tr>\n",
              "\t<tr><th scope=row>4</th><td>paid off</td><td>11.14800</td><td> 1.83</td></tr>\n",
              "\t<tr><th scope=row>5</th><td>default </td><td> 3.72120</td><td>10.81</td></tr>\n",
              "\t<tr><th scope=row>6</th><td>paid off</td><td> 1.89923</td><td>11.34</td></tr>\n",
              "</tbody>\n",
              "</table>\n"
            ],
            "text/markdown": "\nA data.frame: 6 × 3\n\n| <!--/--> | outcome &lt;ord&gt; | payment_inc_ratio &lt;dbl&gt; | dti &lt;dbl&gt; |\n|---|---|---|---|\n| 1 | NA       |  9.00000 | 22.50 |\n| 2 | default  |  5.46933 | 21.33 |\n| 3 | paid off |  6.90294 |  8.97 |\n| 4 | paid off | 11.14800 |  1.83 |\n| 5 | default  |  3.72120 | 10.81 |\n| 6 | paid off |  1.89923 | 11.34 |\n\n",
            "text/latex": "A data.frame: 6 × 3\n\\begin{tabular}{r|lll}\n  & outcome & payment\\_inc\\_ratio & dti\\\\\n  & <ord> & <dbl> & <dbl>\\\\\n\\hline\n\t1 & NA       &  9.00000 & 22.50\\\\\n\t2 & default  &  5.46933 & 21.33\\\\\n\t3 & paid off &  6.90294 &  8.97\\\\\n\t4 & paid off & 11.14800 &  1.83\\\\\n\t5 & default  &  3.72120 & 10.81\\\\\n\t6 & paid off &  1.89923 & 11.34\\\\\n\\end{tabular}\n",
            "text/plain": [
              "  outcome  payment_inc_ratio dti  \n",
              "1 NA        9.00000          22.50\n",
              "2 default   5.46933          21.33\n",
              "3 paid off  6.90294           8.97\n",
              "4 paid off 11.14800           1.83\n",
              "5 default   3.72120          10.81\n",
              "6 paid off  1.89923          11.34"
            ]
          },
          "metadata": {}
        }
      ]
    },
    {
      "cell_type": "code",
      "source": [
        "# With K=20, predict the outcome of a 'newloan'\n",
        "newloan <- loan200[1, 2:3, drop=FALSE]\n",
        "knn_pred <- knn(train=loan200[-1, 2:3], test=newloan, cl=loan200[-1, 1], k=20)\n",
        "knn_pred == 'paid off'"
      ],
      "metadata": {
        "colab": {
          "base_uri": "https://localhost:8080/",
          "height": 34
        },
        "id": "bBA0f5JdKxnm",
        "outputId": "1f990ff7-477a-4709-f4b6-a51cf0be2829"
      },
      "execution_count": null,
      "outputs": [
        {
          "output_type": "display_data",
          "data": {
            "text/html": [
              "TRUE"
            ],
            "text/markdown": "TRUE",
            "text/latex": "TRUE",
            "text/plain": [
              "[1] TRUE"
            ]
          },
          "metadata": {}
        }
      ]
    },
    {
      "cell_type": "markdown",
      "source": [
        "We can make a plot to represent this prediction process. The class of the cross should be predicted and the circle encompasses the nearest neighbours."
      ],
      "metadata": {
        "id": "El5pTB1bgQL2"
      }
    },
    {
      "cell_type": "code",
      "source": [
        "## look at the nearest 20 records and create circle\n",
        "# we add 1 as we excluded the first data point for prediction\n",
        "nearest_points <- loan200[attr(knn_pred, 'nn.index') + 1, ]\n",
        "nearest_points\n",
        "dist <- attr(knn_pred, 'nn.dist')\n",
        "\n",
        "circleFun <- function(center=c(0, 0), r=1, npoints=100){\n",
        "  tt <- seq(0, 2 * pi, length.out=npoints - 1)\n",
        "  xx <- center[1] + r * cos(tt)\n",
        "  yy <- center[2] + r * sin(tt)\n",
        "  return(data.frame(x=c(xx, xx[1]), y=c(yy, yy[1])))\n",
        "}\n",
        "\n",
        "circle_df <- circleFun(center=unlist(newloan), r=max(dist), npoints=201)\n",
        "\n",
        "loan200_df <- loan200 # bind_cols(loan200, circle_df)\n",
        "levels(loan200_df$outcome)\n"
      ],
      "metadata": {
        "colab": {
          "base_uri": "https://localhost:8080/",
          "height": 734
        },
        "id": "Lk1_4GnFEBaX",
        "outputId": "d764c496-66d5-4859-936d-72c9f4b50876"
      },
      "execution_count": null,
      "outputs": [
        {
          "output_type": "display_data",
          "data": {
            "text/html": [
              "<table class=\"dataframe\">\n",
              "<caption>A data.frame: 20 × 3</caption>\n",
              "<thead>\n",
              "\t<tr><th></th><th scope=col>outcome</th><th scope=col>payment_inc_ratio</th><th scope=col>dti</th></tr>\n",
              "\t<tr><th></th><th scope=col>&lt;ord&gt;</th><th scope=col>&lt;dbl&gt;</th><th scope=col>&lt;dbl&gt;</th></tr>\n",
              "</thead>\n",
              "<tbody>\n",
              "\t<tr><th scope=row>36</th><td>default </td><td> 8.65527</td><td>22.23</td></tr>\n",
              "\t<tr><th scope=row>183</th><td>default </td><td> 9.05778</td><td>21.62</td></tr>\n",
              "\t<tr><th scope=row>182</th><td>paid off</td><td> 9.44925</td><td>23.30</td></tr>\n",
              "\t<tr><th scope=row>86</th><td>default </td><td> 8.70942</td><td>24.13</td></tr>\n",
              "\t<tr><th scope=row>10</th><td>default </td><td> 9.43396</td><td>24.15</td></tr>\n",
              "\t<tr><th scope=row>170</th><td>default </td><td> 8.02887</td><td>20.86</td></tr>\n",
              "\t<tr><th scope=row>22</th><td>default </td><td> 6.91886</td><td>22.47</td></tr>\n",
              "\t<tr><th scope=row>200</th><td>paid off</td><td> 9.64200</td><td>20.17</td></tr>\n",
              "\t<tr><th scope=row>78</th><td>paid off</td><td> 7.70160</td><td>24.57</td></tr>\n",
              "\t<tr><th scope=row>56</th><td>paid off</td><td>11.52250</td><td>21.45</td></tr>\n",
              "\t<tr><th scope=row>142</th><td>paid off</td><td> 8.64978</td><td>19.78</td></tr>\n",
              "\t<tr><th scope=row>32</th><td>paid off</td><td>11.86030</td><td>22.54</td></tr>\n",
              "\t<tr><th scope=row>67</th><td>paid off</td><td> 9.52255</td><td>19.66</td></tr>\n",
              "\t<tr><th scope=row>164</th><td>paid off</td><td> 7.90032</td><td>19.71</td></tr>\n",
              "\t<tr><th scope=row>162</th><td>paid off</td><td>10.18890</td><td>25.47</td></tr>\n",
              "\t<tr><th scope=row>113</th><td>default </td><td> 5.82492</td><td>22.00</td></tr>\n",
              "\t<tr><th scope=row>79</th><td>default </td><td>12.35380</td><td>22.22</td></tr>\n",
              "\t<tr><th scope=row>47</th><td>paid off</td><td> 5.62357</td><td>22.35</td></tr>\n",
              "\t<tr><th scope=row>42</th><td>paid off</td><td> 8.16320</td><td>19.14</td></tr>\n",
              "\t<tr><th scope=row>140</th><td>default </td><td>10.02450</td><td>19.11</td></tr>\n",
              "</tbody>\n",
              "</table>\n"
            ],
            "text/markdown": "\nA data.frame: 20 × 3\n\n| <!--/--> | outcome &lt;ord&gt; | payment_inc_ratio &lt;dbl&gt; | dti &lt;dbl&gt; |\n|---|---|---|---|\n| 36 | default  |  8.65527 | 22.23 |\n| 183 | default  |  9.05778 | 21.62 |\n| 182 | paid off |  9.44925 | 23.30 |\n| 86 | default  |  8.70942 | 24.13 |\n| 10 | default  |  9.43396 | 24.15 |\n| 170 | default  |  8.02887 | 20.86 |\n| 22 | default  |  6.91886 | 22.47 |\n| 200 | paid off |  9.64200 | 20.17 |\n| 78 | paid off |  7.70160 | 24.57 |\n| 56 | paid off | 11.52250 | 21.45 |\n| 142 | paid off |  8.64978 | 19.78 |\n| 32 | paid off | 11.86030 | 22.54 |\n| 67 | paid off |  9.52255 | 19.66 |\n| 164 | paid off |  7.90032 | 19.71 |\n| 162 | paid off | 10.18890 | 25.47 |\n| 113 | default  |  5.82492 | 22.00 |\n| 79 | default  | 12.35380 | 22.22 |\n| 47 | paid off |  5.62357 | 22.35 |\n| 42 | paid off |  8.16320 | 19.14 |\n| 140 | default  | 10.02450 | 19.11 |\n\n",
            "text/latex": "A data.frame: 20 × 3\n\\begin{tabular}{r|lll}\n  & outcome & payment\\_inc\\_ratio & dti\\\\\n  & <ord> & <dbl> & <dbl>\\\\\n\\hline\n\t36 & default  &  8.65527 & 22.23\\\\\n\t183 & default  &  9.05778 & 21.62\\\\\n\t182 & paid off &  9.44925 & 23.30\\\\\n\t86 & default  &  8.70942 & 24.13\\\\\n\t10 & default  &  9.43396 & 24.15\\\\\n\t170 & default  &  8.02887 & 20.86\\\\\n\t22 & default  &  6.91886 & 22.47\\\\\n\t200 & paid off &  9.64200 & 20.17\\\\\n\t78 & paid off &  7.70160 & 24.57\\\\\n\t56 & paid off & 11.52250 & 21.45\\\\\n\t142 & paid off &  8.64978 & 19.78\\\\\n\t32 & paid off & 11.86030 & 22.54\\\\\n\t67 & paid off &  9.52255 & 19.66\\\\\n\t164 & paid off &  7.90032 & 19.71\\\\\n\t162 & paid off & 10.18890 & 25.47\\\\\n\t113 & default  &  5.82492 & 22.00\\\\\n\t79 & default  & 12.35380 & 22.22\\\\\n\t47 & paid off &  5.62357 & 22.35\\\\\n\t42 & paid off &  8.16320 & 19.14\\\\\n\t140 & default  & 10.02450 & 19.11\\\\\n\\end{tabular}\n",
            "text/plain": [
              "    outcome  payment_inc_ratio dti  \n",
              "36  default   8.65527          22.23\n",
              "183 default   9.05778          21.62\n",
              "182 paid off  9.44925          23.30\n",
              "86  default   8.70942          24.13\n",
              "10  default   9.43396          24.15\n",
              "170 default   8.02887          20.86\n",
              "22  default   6.91886          22.47\n",
              "200 paid off  9.64200          20.17\n",
              "78  paid off  7.70160          24.57\n",
              "56  paid off 11.52250          21.45\n",
              "142 paid off  8.64978          19.78\n",
              "32  paid off 11.86030          22.54\n",
              "67  paid off  9.52255          19.66\n",
              "164 paid off  7.90032          19.71\n",
              "162 paid off 10.18890          25.47\n",
              "113 default   5.82492          22.00\n",
              "79  default  12.35380          22.22\n",
              "47  paid off  5.62357          22.35\n",
              "42  paid off  8.16320          19.14\n",
              "140 default  10.02450          19.11"
            ]
          },
          "metadata": {}
        },
        {
          "output_type": "display_data",
          "data": {
            "text/html": [
              "<style>\n",
              ".list-inline {list-style: none; margin:0; padding: 0}\n",
              ".list-inline>li {display: inline-block}\n",
              ".list-inline>li:not(:last-child)::after {content: \"\\00b7\"; padding: 0 .5ex}\n",
              "</style>\n",
              "<ol class=list-inline><li>'paid off'</li><li>'default'</li></ol>\n"
            ],
            "text/markdown": "1. 'paid off'\n2. 'default'\n\n\n",
            "text/latex": "\\begin{enumerate*}\n\\item 'paid off'\n\\item 'default'\n\\end{enumerate*}\n",
            "text/plain": [
              "[1] \"paid off\" \"default\" "
            ]
          },
          "metadata": {}
        }
      ]
    },
    {
      "cell_type": "code",
      "source": [
        "# set first entry as target - requires adding additional level to factor\n",
        "levels(loan200_df$outcome) <- c(levels(loan200_df$outcome), \"newloan\")\n",
        "loan200_df[1, 'outcome'] <- 'newloan'\n",
        "head(loan200_df)\n",
        "levels(nearest_points$outcome) <- levels(loan200_df$outcome)"
      ],
      "metadata": {
        "colab": {
          "base_uri": "https://localhost:8080/",
          "height": 283
        },
        "id": "7L6ouPPCdoSx",
        "outputId": "389f9675-5993-44cd-ebdc-f135ead95361"
      },
      "execution_count": null,
      "outputs": [
        {
          "output_type": "display_data",
          "data": {
            "text/html": [
              "<table class=\"dataframe\">\n",
              "<caption>A data.frame: 6 × 3</caption>\n",
              "<thead>\n",
              "\t<tr><th></th><th scope=col>outcome</th><th scope=col>payment_inc_ratio</th><th scope=col>dti</th></tr>\n",
              "\t<tr><th></th><th scope=col>&lt;ord&gt;</th><th scope=col>&lt;dbl&gt;</th><th scope=col>&lt;dbl&gt;</th></tr>\n",
              "</thead>\n",
              "<tbody>\n",
              "\t<tr><th scope=row>1</th><td>newloan </td><td> 9.00000</td><td>22.50</td></tr>\n",
              "\t<tr><th scope=row>2</th><td>default </td><td> 5.46933</td><td>21.33</td></tr>\n",
              "\t<tr><th scope=row>3</th><td>paid off</td><td> 6.90294</td><td> 8.97</td></tr>\n",
              "\t<tr><th scope=row>4</th><td>paid off</td><td>11.14800</td><td> 1.83</td></tr>\n",
              "\t<tr><th scope=row>5</th><td>default </td><td> 3.72120</td><td>10.81</td></tr>\n",
              "\t<tr><th scope=row>6</th><td>paid off</td><td> 1.89923</td><td>11.34</td></tr>\n",
              "</tbody>\n",
              "</table>\n"
            ],
            "text/markdown": "\nA data.frame: 6 × 3\n\n| <!--/--> | outcome &lt;ord&gt; | payment_inc_ratio &lt;dbl&gt; | dti &lt;dbl&gt; |\n|---|---|---|---|\n| 1 | newloan  |  9.00000 | 22.50 |\n| 2 | default  |  5.46933 | 21.33 |\n| 3 | paid off |  6.90294 |  8.97 |\n| 4 | paid off | 11.14800 |  1.83 |\n| 5 | default  |  3.72120 | 10.81 |\n| 6 | paid off |  1.89923 | 11.34 |\n\n",
            "text/latex": "A data.frame: 6 × 3\n\\begin{tabular}{r|lll}\n  & outcome & payment\\_inc\\_ratio & dti\\\\\n  & <ord> & <dbl> & <dbl>\\\\\n\\hline\n\t1 & newloan  &  9.00000 & 22.50\\\\\n\t2 & default  &  5.46933 & 21.33\\\\\n\t3 & paid off &  6.90294 &  8.97\\\\\n\t4 & paid off & 11.14800 &  1.83\\\\\n\t5 & default  &  3.72120 & 10.81\\\\\n\t6 & paid off &  1.89923 & 11.34\\\\\n\\end{tabular}\n",
            "text/plain": [
              "  outcome  payment_inc_ratio dti  \n",
              "1 newloan   9.00000          22.50\n",
              "2 default   5.46933          21.33\n",
              "3 paid off  6.90294           8.97\n",
              "4 paid off 11.14800           1.83\n",
              "5 default   3.72120          10.81\n",
              "6 paid off  1.89923          11.34"
            ]
          },
          "metadata": {}
        }
      ]
    },
    {
      "cell_type": "code",
      "source": [
        "graph <- ggplot(data=loan200_df, aes(x=payment_inc_ratio, y=dti, color=outcome)) + # , shape=outcome)) +\n",
        "  geom_point(aes(shape=outcome), size=2, alpha=0.4) +\n",
        "  geom_point(data=nearest_points, aes(shape=outcome), size=2) +\n",
        "  geom_point(data=loan200_df[1,], aes(shape=outcome), size=2) +\n",
        "  scale_shape_manual(values=c(15, 16, 4)) +\n",
        "  scale_color_manual(values = c(\"paid off\"=\"#1b9e77\", \"default\"=\"#d95f02\", \"newloan\"='black')) +\n",
        "  geom_path(data=circle_df, aes(x=x, y=y), color='black') +\n",
        "  coord_cartesian(xlim=c(3, 15), ylim=c(17, 29)) +\n",
        "  theme_bw()\n",
        "graph\n",
        "\n",
        "# NB:\n",
        "# With K = 20, we have 9 defaulted loans in the circle and 11 paid-off loans.\n",
        "# Hence the cross is predicted as 'paid-off'.\n",
        "#\n",
        "# How is the prediction if K = 3?"
      ],
      "metadata": {
        "colab": {
          "base_uri": "https://localhost:8080/",
          "height": 437
        },
        "id": "DBV-IsZihGgV",
        "outputId": "4e69e87f-3c09-4c95-972c-6f894a46f4f9"
      },
      "execution_count": null,
      "outputs": [
        {
          "output_type": "display_data",
          "data": {
            "text/plain": [
              "plot without title"
            ],
            "image/png": "[encoded data removed]"
          },
          "metadata": {
            "image/png": {
              "width": 420,
              "height": 420
            }
          }
        }
      ]
    },
    {
      "cell_type": "markdown",
      "source": [
        "**A reminder on distance**\n",
        "\n",
        "- $\\underline{Euclidean(\\mathbf{x},\\mathbf{u})}$ : $\\sqrt{(x_1-u_1)^2+(x_2-u_2)^2+...+(x_p-u_p)^2}$; corresponds to the straight-line distance between two points.\n",
        "- $\\underline{Manhattan(\\mathbf{x},\\mathbf{u})}$ : $\\vert x_1-u_1 \\vert + \\vert x_2-u_2 + ... + \\vert x_p-u_p \\vert$; distance between two points traversed in a single direction at a time."
      ],
      "metadata": {
        "id": "GaIjMJFQfTLT"
      }
    },
    {
      "cell_type": "markdown",
      "source": [
        "# Standardization (Normalization, Z-Scores)\n",
        "\n",
        "Standardization puts all variables on similar scales by subtracting the mean and dividing by the standard deviation. Thus, we ensure that a variable does not overly influence a model.\n",
        "$z=\\frac{x-\\bar{x}}{s}$"
      ],
      "metadata": {
        "id": "HgjnSQ0SHOjp"
      }
    },
    {
      "cell_type": "markdown",
      "source": [
        "## An example\n",
        "\n",
        "KNN is applied to the loan data using **dti** and **payment_inc_ratio**, plus two other variables: **revol_bal** (the total revolving credit available to the applicant in dollars) and **revol_util** (the percent of the credit being used)."
      ],
      "metadata": {
        "id": "j1eFX3yMTeP-"
      }
    },
    {
      "cell_type": "code",
      "source": [
        "# Load the data\n",
        "loan_data <- read.csv(file.path('sample_data', 'loan_data.csv'), stringsAsFactors=TRUE)\n",
        "loan_data <- select(loan_data, -X, -status)\n",
        "loan_data$outcome <- ordered(loan_data$outcome, levels=c('paid off', 'default'))"
      ],
      "metadata": {
        "id": "jtZvI07emNVD"
      },
      "execution_count": null,
      "outputs": []
    },
    {
      "cell_type": "code",
      "source": [
        "loan_df <- model.matrix(~ -1 + payment_inc_ratio + dti + revol_bal +\n",
        "                          revol_util, data=loan_data)\n",
        "newloan <- loan_df[1, , drop=FALSE]\n",
        "loan_df <- loan_df[-1,]\n",
        "outcome <- loan_data[-1, 1]\n",
        "knn_pred <- knn(train=loan_df, test=newloan, cl=outcome, k=5)\n",
        "loan_df[attr(knn_pred, \"nn.index\"),] # To see the top-five closest rows\n",
        "\n",
        "# NB:\n",
        "# The value of revol_bal in these neighbors is very close to its value in\n",
        "# the new record, but the other predictor variables are all over the map\n",
        "# and essentially play no role in determining the neighbors."
      ],
      "metadata": {
        "colab": {
          "base_uri": "https://localhost:8080/",
          "height": 221
        },
        "id": "uV-x93cWmBsy",
        "outputId": "0a091cb8-1693-4a29-f079-cdcfd7da0ef9"
      },
      "execution_count": null,
      "outputs": [
        {
          "output_type": "display_data",
          "data": {
            "text/html": [
              "<table class=\"dataframe\">\n",
              "<caption>A matrix: 5 × 4 of type dbl</caption>\n",
              "<thead>\n",
              "\t<tr><th></th><th scope=col>payment_inc_ratio</th><th scope=col>dti</th><th scope=col>revol_bal</th><th scope=col>revol_util</th></tr>\n",
              "</thead>\n",
              "<tbody>\n",
              "\t<tr><th scope=row>35537</th><td>1.47212</td><td>1.46</td><td>1686</td><td>10.0</td></tr>\n",
              "\t<tr><th scope=row>33652</th><td>3.38178</td><td>6.37</td><td>1688</td><td> 8.4</td></tr>\n",
              "\t<tr><th scope=row>25864</th><td>2.36303</td><td>1.39</td><td>1691</td><td> 3.5</td></tr>\n",
              "\t<tr><th scope=row>42954</th><td>1.28160</td><td>7.14</td><td>1684</td><td> 3.9</td></tr>\n",
              "\t<tr><th scope=row>43600</th><td>4.12244</td><td>8.98</td><td>1684</td><td> 7.2</td></tr>\n",
              "</tbody>\n",
              "</table>\n"
            ],
            "text/markdown": "\nA matrix: 5 × 4 of type dbl\n\n| <!--/--> | payment_inc_ratio | dti | revol_bal | revol_util |\n|---|---|---|---|---|\n| 35537 | 1.47212 | 1.46 | 1686 | 10.0 |\n| 33652 | 3.38178 | 6.37 | 1688 |  8.4 |\n| 25864 | 2.36303 | 1.39 | 1691 |  3.5 |\n| 42954 | 1.28160 | 7.14 | 1684 |  3.9 |\n| 43600 | 4.12244 | 8.98 | 1684 |  7.2 |\n\n",
            "text/latex": "A matrix: 5 × 4 of type dbl\n\\begin{tabular}{r|llll}\n  & payment\\_inc\\_ratio & dti & revol\\_bal & revol\\_util\\\\\n\\hline\n\t35537 & 1.47212 & 1.46 & 1686 & 10.0\\\\\n\t33652 & 3.38178 & 6.37 & 1688 &  8.4\\\\\n\t25864 & 2.36303 & 1.39 & 1691 &  3.5\\\\\n\t42954 & 1.28160 & 7.14 & 1684 &  3.9\\\\\n\t43600 & 4.12244 & 8.98 & 1684 &  7.2\\\\\n\\end{tabular}\n",
            "text/plain": [
              "      payment_inc_ratio dti  revol_bal revol_util\n",
              "35537 1.47212           1.46 1686      10.0      \n",
              "33652 3.38178           6.37 1688       8.4      \n",
              "25864 2.36303           1.39 1691       3.5      \n",
              "42954 1.28160           7.14 1684       3.9      \n",
              "43600 4.12244           8.98 1684       7.2      "
            ]
          },
          "metadata": {}
        }
      ]
    },
    {
      "cell_type": "markdown",
      "source": [
        "Let us compare this to KNN applied to the standardized data using the R function **scale**, which compute the $z$-score for each variable."
      ],
      "metadata": {
        "id": "Yc6nbsG3n1Fx"
      }
    },
    {
      "cell_type": "code",
      "source": [
        "loan_df <- model.matrix(~ -1 + payment_inc_ratio + dti + revol_bal +\n",
        "                          revol_util, data=loan_data)\n",
        "loan_std <- scale(loan_df)\n",
        "newloan_std <- loan_std[1, , drop=FALSE]\n",
        "loan_std <- loan_std[-1,]\n",
        "loan_df <- loan_df[-1,]\n",
        "outcome <- loan_data[-1, 1]\n",
        "knn_pred <- knn(train=loan_std, test=newloan_std, cl=outcome, k=5)\n",
        "loan_df[attr(knn_pred, \"nn.index\"),]\n",
        "\n",
        "# NB:\n",
        "# The five nearest neighbors are much more alike in all the variables, providing\n",
        "# a more sensible results. Caution: the results are displayed on the original\n",
        "# scale, but KNN was applied to the scaled data."
      ],
      "metadata": {
        "colab": {
          "base_uri": "https://localhost:8080/",
          "height": 221
        },
        "id": "TRggLBhNoD2t",
        "outputId": "20fc910f-9181-4d06-ef2f-e1a2dc8c926d"
      },
      "execution_count": null,
      "outputs": [
        {
          "output_type": "display_data",
          "data": {
            "text/html": [
              "<table class=\"dataframe\">\n",
              "<caption>A matrix: 5 × 4 of type dbl</caption>\n",
              "<thead>\n",
              "\t<tr><th></th><th scope=col>payment_inc_ratio</th><th scope=col>dti</th><th scope=col>revol_bal</th><th scope=col>revol_util</th></tr>\n",
              "</thead>\n",
              "<tbody>\n",
              "\t<tr><th scope=row>2081</th><td>2.61091</td><td>1.03</td><td>1218</td><td>9.7</td></tr>\n",
              "\t<tr><th scope=row>1439</th><td>2.34343</td><td>0.51</td><td> 278</td><td>9.9</td></tr>\n",
              "\t<tr><th scope=row>30216</th><td>2.71200</td><td>1.34</td><td>1075</td><td>8.5</td></tr>\n",
              "\t<tr><th scope=row>28543</th><td>2.39760</td><td>0.74</td><td>2917</td><td>7.4</td></tr>\n",
              "\t<tr><th scope=row>44738</th><td>2.34309</td><td>1.37</td><td> 488</td><td>7.2</td></tr>\n",
              "</tbody>\n",
              "</table>\n"
            ],
            "text/markdown": "\nA matrix: 5 × 4 of type dbl\n\n| <!--/--> | payment_inc_ratio | dti | revol_bal | revol_util |\n|---|---|---|---|---|\n| 2081 | 2.61091 | 1.03 | 1218 | 9.7 |\n| 1439 | 2.34343 | 0.51 |  278 | 9.9 |\n| 30216 | 2.71200 | 1.34 | 1075 | 8.5 |\n| 28543 | 2.39760 | 0.74 | 2917 | 7.4 |\n| 44738 | 2.34309 | 1.37 |  488 | 7.2 |\n\n",
            "text/latex": "A matrix: 5 × 4 of type dbl\n\\begin{tabular}{r|llll}\n  & payment\\_inc\\_ratio & dti & revol\\_bal & revol\\_util\\\\\n\\hline\n\t2081 & 2.61091 & 1.03 & 1218 & 9.7\\\\\n\t1439 & 2.34343 & 0.51 &  278 & 9.9\\\\\n\t30216 & 2.71200 & 1.34 & 1075 & 8.5\\\\\n\t28543 & 2.39760 & 0.74 & 2917 & 7.4\\\\\n\t44738 & 2.34309 & 1.37 &  488 & 7.2\\\\\n\\end{tabular}\n",
            "text/plain": [
              "      payment_inc_ratio dti  revol_bal revol_util\n",
              "2081  2.61091           1.03 1218      9.7       \n",
              "1439  2.34343           0.51  278      9.9       \n",
              "30216 2.71200           1.34 1075      8.5       \n",
              "28543 2.39760           0.74 2917      7.4       \n",
              "44738 2.34309           1.37  488      7.2       "
            ]
          },
          "metadata": {}
        }
      ]
    },
    {
      "cell_type": "markdown",
      "source": [
        "## Choosing $K$ in KNN\n",
        "\n",
        "If $K$ is too low, we may be overfitting, ie. including the noise. Higher values of $K$ provide smoothong that reduce the risk of overfitting in the training. But, too high $K$ may oversmooth the data and make KNN loose its ability to capture the local structure in the data.\n",
        "\n",
        "We can determine the best $K$ by accuracy metrics with holdout ou validation set. With little noise, small $K$ works best. For moisy data, with less structure, larger values of $K$ are appropriate.\n",
        "\n",
        "Typically, values of $K$ fall in the range $1$ to $20$. An odd number is better to avoid ties."
      ],
      "metadata": {
        "id": "ekDDrkUTdhfY"
      }
    },
    {
      "cell_type": "markdown",
      "source": [
        "*(To be extended...)*"
      ],
      "metadata": {
        "id": "qgYaJE5zye-d"
      }
    }
  ]
}